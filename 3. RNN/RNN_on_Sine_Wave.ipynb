{
  "nbformat": 4,
  "nbformat_minor": 0,
  "metadata": {
    "colab": {
      "name": "RNN on Sine Wave.ipynb",
      "provenance": [],
      "collapsed_sections": []
    },
    "kernelspec": {
      "name": "python3",
      "display_name": "Python 3"
    },
    "language_info": {
      "name": "python"
    }
  },
  "cells": [
    {
      "cell_type": "code",
      "metadata": {
        "id": "__zyH6owHSFC"
      },
      "source": [
        "import pandas as pd\n",
        "import numpy as np\n",
        "import matplotlib.pyplot as plt"
      ],
      "execution_count": 1,
      "outputs": []
    },
    {
      "cell_type": "code",
      "metadata": {
        "id": "WVLOGU4cHimY"
      },
      "source": [
        "x = np.linspace(0,50,501)"
      ],
      "execution_count": 2,
      "outputs": []
    },
    {
      "cell_type": "code",
      "metadata": {
        "id": "IS_NqpOfH1Ni"
      },
      "source": [
        "y = np.sin(x)"
      ],
      "execution_count": 3,
      "outputs": []
    },
    {
      "cell_type": "code",
      "metadata": {
        "colab": {
          "base_uri": "https://localhost:8080/",
          "height": 265
        },
        "id": "YX971aSfH5wS",
        "outputId": "b35fb92d-5a2a-4cb4-f245-85bb7841bb1d"
      },
      "source": [
        "plt.plot(x,y);"
      ],
      "execution_count": 4,
      "outputs": [
        {
          "output_type": "display_data",
          "data": {
            "image/png": "[encoded data removed]",
            "text/plain": [
              "<Figure size 432x288 with 1 Axes>"
            ]
          },
          "metadata": {
            "tags": [],
            "needs_background": "light"
          }
        }
      ]
    },
    {
      "cell_type": "code",
      "metadata": {
        "id": "zZAb9EQ8H_3Z"
      },
      "source": [
        "df = pd.DataFrame(data=y, index=x, columns=['Sine'])"
      ],
      "execution_count": 5,
      "outputs": []
    },
    {
      "cell_type": "code",
      "metadata": {
        "colab": {
          "base_uri": "https://localhost:8080/",
          "height": 417
        },
        "id": "4yBvvvNlJKku",
        "outputId": "fd5c23fe-52a5-4997-a41e-04f72c3b5d85"
      },
      "source": [
        "df"
      ],
      "execution_count": 6,
      "outputs": [
        {
          "output_type": "execute_result",
          "data": {
            "text/html": [
              "<div>\n",
              "<style scoped>\n",
              "    .dataframe tbody tr th:only-of-type {\n",
              "        vertical-align: middle;\n",
              "    }\n",
              "\n",
              "    .dataframe tbody tr th {\n",
              "        vertical-align: top;\n",
              "    }\n",
              "\n",
              "    .dataframe thead th {\n",
              "        text-align: right;\n",
              "    }\n",
              "</style>\n",
              "<table border=\"1\" class=\"dataframe\">\n",
              "  <thead>\n",
              "    <tr style=\"text-align: right;\">\n",
              "      <th></th>\n",
              "      <th>Sine</th>\n",
              "    </tr>\n",
              "  </thead>\n",
              "  <tbody>\n",
              "    <tr>\n",
              "      <th>0.0</th>\n",
              "      <td>0.000000</td>\n",
              "    </tr>\n",
              "    <tr>\n",
              "      <th>0.1</th>\n",
              "      <td>0.099833</td>\n",
              "    </tr>\n",
              "    <tr>\n",
              "      <th>0.2</th>\n",
              "      <td>0.198669</td>\n",
              "    </tr>\n",
              "    <tr>\n",
              "      <th>0.3</th>\n",
              "      <td>0.295520</td>\n",
              "    </tr>\n",
              "    <tr>\n",
              "      <th>0.4</th>\n",
              "      <td>0.389418</td>\n",
              "    </tr>\n",
              "    <tr>\n",
              "      <th>...</th>\n",
              "      <td>...</td>\n",
              "    </tr>\n",
              "    <tr>\n",
              "      <th>49.6</th>\n",
              "      <td>-0.617439</td>\n",
              "    </tr>\n",
              "    <tr>\n",
              "      <th>49.7</th>\n",
              "      <td>-0.535823</td>\n",
              "    </tr>\n",
              "    <tr>\n",
              "      <th>49.8</th>\n",
              "      <td>-0.448854</td>\n",
              "    </tr>\n",
              "    <tr>\n",
              "      <th>49.9</th>\n",
              "      <td>-0.357400</td>\n",
              "    </tr>\n",
              "    <tr>\n",
              "      <th>50.0</th>\n",
              "      <td>-0.262375</td>\n",
              "    </tr>\n",
              "  </tbody>\n",
              "</table>\n",
              "<p>501 rows × 1 columns</p>\n",
              "</div>"
            ],
            "text/plain": [
              "          Sine\n",
              "0.0   0.000000\n",
              "0.1   0.099833\n",
              "0.2   0.198669\n",
              "0.3   0.295520\n",
              "0.4   0.389418\n",
              "...        ...\n",
              "49.6 -0.617439\n",
              "49.7 -0.535823\n",
              "49.8 -0.448854\n",
              "49.9 -0.357400\n",
              "50.0 -0.262375\n",
              "\n",
              "[501 rows x 1 columns]"
            ]
          },
          "metadata": {
            "tags": []
          },
          "execution_count": 6
        }
      ]
    },
    {
      "cell_type": "code",
      "metadata": {
        "id": "02F6bDM2JP1M"
      },
      "source": [
        "test_percent = 0.1"
      ],
      "execution_count": 7,
      "outputs": []
    },
    {
      "cell_type": "code",
      "metadata": {
        "colab": {
          "base_uri": "https://localhost:8080/"
        },
        "id": "zyEcOMFyJfh7",
        "outputId": "f8940139-ab31-4071-f227-c7abdb4ae9b7"
      },
      "source": [
        "len(df)*test_percent"
      ],
      "execution_count": 8,
      "outputs": [
        {
          "output_type": "execute_result",
          "data": {
            "text/plain": [
              "50.1"
            ]
          },
          "metadata": {
            "tags": []
          },
          "execution_count": 8
        }
      ]
    },
    {
      "cell_type": "code",
      "metadata": {
        "id": "CUL1cs-NJlZa"
      },
      "source": [
        "test_point = np.round(len(df)*test_percent)"
      ],
      "execution_count": 9,
      "outputs": []
    },
    {
      "cell_type": "code",
      "metadata": {
        "id": "O4TdSioNJtlb"
      },
      "source": [
        "test_index = int(len(df) - test_point)"
      ],
      "execution_count": 10,
      "outputs": []
    },
    {
      "cell_type": "code",
      "metadata": {
        "colab": {
          "base_uri": "https://localhost:8080/"
        },
        "id": "nIfd9O6EMFaw",
        "outputId": "beb448d6-7e10-4c9c-ae1c-e180efe86e98"
      },
      "source": [
        "test_index"
      ],
      "execution_count": 11,
      "outputs": [
        {
          "output_type": "execute_result",
          "data": {
            "text/plain": [
              "451"
            ]
          },
          "metadata": {
            "tags": []
          },
          "execution_count": 11
        }
      ]
    },
    {
      "cell_type": "code",
      "metadata": {
        "id": "Z4J-JoSuMGg0"
      },
      "source": [
        "train = df.iloc[:test_index]"
      ],
      "execution_count": 12,
      "outputs": []
    },
    {
      "cell_type": "code",
      "metadata": {
        "id": "ISYQKv_HMNm9"
      },
      "source": [
        "test = df.iloc[test_index:]"
      ],
      "execution_count": 13,
      "outputs": []
    },
    {
      "cell_type": "code",
      "metadata": {
        "id": "NCgVOxTcMQlh"
      },
      "source": [
        "from sklearn.preprocessing import MinMaxScaler"
      ],
      "execution_count": 14,
      "outputs": []
    },
    {
      "cell_type": "code",
      "metadata": {
        "id": "Y8GrqAJjM0c3"
      },
      "source": [
        "scaler = MinMaxScaler()"
      ],
      "execution_count": 15,
      "outputs": []
    },
    {
      "cell_type": "code",
      "metadata": {
        "id": "PSjT-yISNlO0",
        "colab": {
          "base_uri": "https://localhost:8080/"
        },
        "outputId": "8650eca8-7fa2-4b87-9b3e-cdf690e993ee"
      },
      "source": [
        "scaler.fit(train)"
      ],
      "execution_count": 16,
      "outputs": [
        {
          "output_type": "execute_result",
          "data": {
            "text/plain": [
              "MinMaxScaler(copy=True, feature_range=(0, 1))"
            ]
          },
          "metadata": {
            "tags": []
          },
          "execution_count": 16
        }
      ]
    },
    {
      "cell_type": "code",
      "metadata": {
        "id": "Xyte37MnM4E3"
      },
      "source": [
        "scaled_train = scaler.transform(train)\n",
        "scaled_test = scaler.transform(test)"
      ],
      "execution_count": 17,
      "outputs": []
    },
    {
      "cell_type": "markdown",
      "metadata": {
        "id": "FWCd5LtltK2X"
      },
      "source": [
        "### Batch Generator"
      ]
    },
    {
      "cell_type": "code",
      "metadata": {
        "id": "nhKnlgPCNRtr"
      },
      "source": [
        "from tensorflow.keras.preprocessing.sequence import TimeseriesGenerator"
      ],
      "execution_count": 18,
      "outputs": []
    },
    {
      "cell_type": "code",
      "metadata": {
        "id": "kw02q0lto-HU"
      },
      "source": [
        "length = 2\n",
        "batch_size = 1\n",
        "\n",
        "generator = TimeseriesGenerator(scaled_train, scaled_train, length=length, batch_size=batch_size)"
      ],
      "execution_count": 19,
      "outputs": []
    },
    {
      "cell_type": "code",
      "metadata": {
        "colab": {
          "base_uri": "https://localhost:8080/"
        },
        "id": "Z-HrKOytpswX",
        "outputId": "2ded9162-7926-40b1-e693-92278007e1c8"
      },
      "source": [
        "len(scaled_train)"
      ],
      "execution_count": 20,
      "outputs": [
        {
          "output_type": "execute_result",
          "data": {
            "text/plain": [
              "451"
            ]
          },
          "metadata": {
            "tags": []
          },
          "execution_count": 20
        }
      ]
    },
    {
      "cell_type": "code",
      "metadata": {
        "colab": {
          "base_uri": "https://localhost:8080/"
        },
        "id": "dhff6-aprOyt",
        "outputId": "2dfb3e18-84fe-4beb-cb93-df3924b4fbc7"
      },
      "source": [
        "len(generator)"
      ],
      "execution_count": 21,
      "outputs": [
        {
          "output_type": "execute_result",
          "data": {
            "text/plain": [
              "449"
            ]
          },
          "metadata": {
            "tags": []
          },
          "execution_count": 21
        }
      ]
    },
    {
      "cell_type": "code",
      "metadata": {
        "id": "Y-BRQCgirQL4"
      },
      "source": [
        "X,y = generator[0]"
      ],
      "execution_count": 22,
      "outputs": []
    },
    {
      "cell_type": "code",
      "metadata": {
        "colab": {
          "base_uri": "https://localhost:8080/"
        },
        "id": "UIOa9tKNr4mA",
        "outputId": "60d56c5a-810f-4647-f96c-4300dc7780b1"
      },
      "source": [
        "X #length=2"
      ],
      "execution_count": 23,
      "outputs": [
        {
          "output_type": "execute_result",
          "data": {
            "text/plain": [
              "array([[[0.49999912],\n",
              "        [0.54991622]]])"
            ]
          },
          "metadata": {
            "tags": []
          },
          "execution_count": 23
        }
      ]
    },
    {
      "cell_type": "code",
      "metadata": {
        "colab": {
          "base_uri": "https://localhost:8080/"
        },
        "id": "M7aF6bGXr83A",
        "outputId": "4534d538-325d-4007-aeb5-4e4a617b4af0"
      },
      "source": [
        "y"
      ],
      "execution_count": 24,
      "outputs": [
        {
          "output_type": "execute_result",
          "data": {
            "text/plain": [
              "array([[0.59933458]])"
            ]
          },
          "metadata": {
            "tags": []
          },
          "execution_count": 24
        }
      ]
    },
    {
      "cell_type": "code",
      "metadata": {
        "colab": {
          "base_uri": "https://localhost:8080/"
        },
        "id": "ecveHeaHr9pZ",
        "outputId": "5e10e674-e8cf-485a-84dc-d1c9aee01b22"
      },
      "source": [
        "scaled_train[:3]"
      ],
      "execution_count": 25,
      "outputs": [
        {
          "output_type": "execute_result",
          "data": {
            "text/plain": [
              "array([[0.49999912],\n",
              "       [0.54991622],\n",
              "       [0.59933458]])"
            ]
          },
          "metadata": {
            "tags": []
          },
          "execution_count": 25
        }
      ]
    },
    {
      "cell_type": "code",
      "metadata": {
        "colab": {
          "base_uri": "https://localhost:8080/",
          "height": 265
        },
        "id": "utV4sZn4sARM",
        "outputId": "b0e84a3c-bda7-43cd-a9c5-b52c46c59d41"
      },
      "source": [
        " df.plot();"
      ],
      "execution_count": 26,
      "outputs": [
        {
          "output_type": "display_data",
          "data": {
            "image/png": "[encoded data removed]",
            "text/plain": [
              "<Figure size 432x288 with 1 Axes>"
            ]
          },
          "metadata": {
            "tags": [],
            "needs_background": "light"
          }
        }
      ]
    },
    {
      "cell_type": "code",
      "metadata": {
        "id": "etSw_jLesokB"
      },
      "source": [
        "length = 50\n",
        "batch_size = 1\n",
        "\n",
        "generator = TimeseriesGenerator(scaled_train, scaled_train, length=length, batch_size=batch_size)"
      ],
      "execution_count": 27,
      "outputs": []
    },
    {
      "cell_type": "code",
      "metadata": {
        "colab": {
          "base_uri": "https://localhost:8080/"
        },
        "id": "qY1nel21s6L5",
        "outputId": "346083e7-dce7-4d95-b0f5-af16a3e4b3a8"
      },
      "source": [
        "len(generator)"
      ],
      "execution_count": 28,
      "outputs": [
        {
          "output_type": "execute_result",
          "data": {
            "text/plain": [
              "401"
            ]
          },
          "metadata": {
            "tags": []
          },
          "execution_count": 28
        }
      ]
    },
    {
      "cell_type": "code",
      "metadata": {
        "id": "juVIc8Fqs7WV"
      },
      "source": [
        "X,y = generator[0]"
      ],
      "execution_count": 29,
      "outputs": []
    },
    {
      "cell_type": "code",
      "metadata": {
        "colab": {
          "base_uri": "https://localhost:8080/"
        },
        "id": "Pt7twyVzs_Ar",
        "outputId": "a19488d7-fe3e-4d5f-ec4c-91ddcb239616"
      },
      "source": [
        "X"
      ],
      "execution_count": 30,
      "outputs": [
        {
          "output_type": "execute_result",
          "data": {
            "text/plain": [
              "array([[[4.99999116e-01],\n",
              "        [5.49916225e-01],\n",
              "        [5.99334579e-01],\n",
              "        [6.47760405e-01],\n",
              "        [6.94709850e-01],\n",
              "        [7.39713809e-01],\n",
              "        [7.82322618e-01],\n",
              "        [8.22110545e-01],\n",
              "        [8.58680040e-01],\n",
              "        [8.91665714e-01],\n",
              "        [9.20737985e-01],\n",
              "        [9.45606372e-01],\n",
              "        [9.66022399e-01],\n",
              "        [9.81782075e-01],\n",
              "        [9.92727935e-01],\n",
              "        [9.98750612e-01],\n",
              "        [9.99789928e-01],\n",
              "        [9.95835500e-01],\n",
              "        [9.86926839e-01],\n",
              "        [9.73152957e-01],\n",
              "        [9.54651478e-01],\n",
              "        [9.31607263e-01],\n",
              "        [9.04250562e-01],\n",
              "        [8.72854714e-01],\n",
              "        [8.37733417e-01],\n",
              "        [7.99237589e-01],\n",
              "        [7.57751870e-01],\n",
              "        [7.13690771e-01],\n",
              "        [6.67494535e-01],\n",
              "        [6.19624741e-01],\n",
              "        [5.70559686e-01],\n",
              "        [5.20789614e-01],\n",
              "        [4.70811810e-01],\n",
              "        [4.21125636e-01],\n",
              "        [3.72227539e-01],\n",
              "        [3.24606094e-01],\n",
              "        [2.78737119e-01],\n",
              "        [2.35078919e-01],\n",
              "        [1.94067715e-01],\n",
              "        [1.56113277e-01],\n",
              "        [1.21594831e-01],\n",
              "        [9.08572769e-02],\n",
              "        [6.42077324e-02],\n",
              "        [4.19124713e-02],\n",
              "        [2.41942605e-02],\n",
              "        [1.12301346e-02],\n",
              "        [3.14962674e-03],\n",
              "        [3.34747619e-05],\n",
              "        [1.91281421e-03],\n",
              "        [8.76886734e-03]]])"
            ]
          },
          "metadata": {
            "tags": []
          },
          "execution_count": 30
        }
      ]
    },
    {
      "cell_type": "code",
      "metadata": {
        "colab": {
          "base_uri": "https://localhost:8080/"
        },
        "id": "DFmvaRjDs_jn",
        "outputId": "48d50a1a-002a-4a6f-e966-c1edec10d60d"
      },
      "source": [
        "y"
      ],
      "execution_count": 31,
      "outputs": [
        {
          "output_type": "execute_result",
          "data": {
            "text/plain": [
              "array([[0.02053313]])"
            ]
          },
          "metadata": {
            "tags": []
          },
          "execution_count": 31
        }
      ]
    },
    {
      "cell_type": "markdown",
      "metadata": {
        "id": "Xcr4O4ZwtdUg"
      },
      "source": [
        "### Creating Model"
      ]
    },
    {
      "cell_type": "code",
      "metadata": {
        "id": "vntroJhgtABD"
      },
      "source": [
        "from tensorflow.keras.models import Sequential"
      ],
      "execution_count": 32,
      "outputs": []
    },
    {
      "cell_type": "code",
      "metadata": {
        "id": "-KB_docAuUO8"
      },
      "source": [
        "from tensorflow.keras.layers import Dense, SimpleRNN, LSTM"
      ],
      "execution_count": 33,
      "outputs": []
    },
    {
      "cell_type": "code",
      "metadata": {
        "id": "MRrQ1Dfp8t0m"
      },
      "source": [
        "n_features = 1 #no of features predicting y"
      ],
      "execution_count": 34,
      "outputs": []
    },
    {
      "cell_type": "code",
      "metadata": {
        "id": "fTYpbr9485qD"
      },
      "source": [
        "model = Sequential()\n",
        "\n",
        "model.add(SimpleRNN(50, input_shape=(length,n_features)))\n",
        "\n",
        "model.add(Dense(1))\n",
        "\n",
        "model.compile(optimizer='adam',loss='mse')"
      ],
      "execution_count": 35,
      "outputs": []
    },
    {
      "cell_type": "code",
      "metadata": {
        "colab": {
          "base_uri": "https://localhost:8080/"
        },
        "id": "yyaMKkw_-MNh",
        "outputId": "78f13e3e-8304-4162-c2e5-65dd5a3cc4ab"
      },
      "source": [
        "model.summary()"
      ],
      "execution_count": 36,
      "outputs": [
        {
          "output_type": "stream",
          "text": [
            "Model: \"sequential\"\n",
            "_________________________________________________________________\n",
            "Layer (type)                 Output Shape              Param #   \n",
            "=================================================================\n",
            "simple_rnn (SimpleRNN)       (None, 50)                2600      \n",
            "_________________________________________________________________\n",
            "dense (Dense)                (None, 1)                 51        \n",
            "=================================================================\n",
            "Total params: 2,651\n",
            "Trainable params: 2,651\n",
            "Non-trainable params: 0\n",
            "_________________________________________________________________\n"
          ],
          "name": "stdout"
        }
      ]
    },
    {
      "cell_type": "code",
      "metadata": {
        "colab": {
          "base_uri": "https://localhost:8080/"
        },
        "id": "Uz7bJ_Wy-OXu",
        "outputId": "9cabeef8-fa93-49e4-cf62-03f4e3744e1d"
      },
      "source": [
        "model.fit_generator(generator, epochs=5)"
      ],
      "execution_count": 37,
      "outputs": [
        {
          "output_type": "stream",
          "text": [
            "Epoch 1/5\n"
          ],
          "name": "stdout"
        },
        {
          "output_type": "stream",
          "text": [
            "/usr/local/lib/python3.7/dist-packages/tensorflow/python/keras/engine/training.py:1940: UserWarning: `Model.fit_generator` is deprecated and will be removed in a future version. Please use `Model.fit`, which supports generators.\n",
            "  warnings.warn('`Model.fit_generator` is deprecated and '\n"
          ],
          "name": "stderr"
        },
        {
          "output_type": "stream",
          "text": [
            "401/401 [==============================] - 4s 8ms/step - loss: 0.0098\n",
            "Epoch 2/5\n",
            "401/401 [==============================] - 3s 8ms/step - loss: 1.6399e-04\n",
            "Epoch 3/5\n",
            "401/401 [==============================] - 3s 8ms/step - loss: 1.2245e-04\n",
            "Epoch 4/5\n",
            "401/401 [==============================] - 3s 8ms/step - loss: 1.2393e-04\n",
            "Epoch 5/5\n",
            "401/401 [==============================] - 3s 8ms/step - loss: 2.6513e-05\n"
          ],
          "name": "stdout"
        },
        {
          "output_type": "execute_result",
          "data": {
            "text/plain": [
              "<tensorflow.python.keras.callbacks.History at 0x7fa8dac4c3d0>"
            ]
          },
          "metadata": {
            "tags": []
          },
          "execution_count": 37
        }
      ]
    },
    {
      "cell_type": "code",
      "metadata": {
        "id": "cL_o_x7U-0dw"
      },
      "source": [
        "losses = pd.DataFrame(model.history.history)"
      ],
      "execution_count": 38,
      "outputs": []
    },
    {
      "cell_type": "code",
      "metadata": {
        "colab": {
          "base_uri": "https://localhost:8080/",
          "height": 282
        },
        "id": "OYBvxraG_Qhf",
        "outputId": "68e06ee6-74a4-4e78-a9da-8765ced0a487"
      },
      "source": [
        "losses.plot()"
      ],
      "execution_count": 39,
      "outputs": [
        {
          "output_type": "execute_result",
          "data": {
            "text/plain": [
              "<matplotlib.axes._subplots.AxesSubplot at 0x7fa8d7289b50>"
            ]
          },
          "metadata": {
            "tags": []
          },
          "execution_count": 39
        },
        {
          "output_type": "display_data",
          "data": {
            "image/png": "[encoded data removed]",
            "text/plain": [
              "<Figure size 432x288 with 1 Axes>"
            ]
          },
          "metadata": {
            "tags": [],
            "needs_background": "light"
          }
        }
      ]
    },
    {
      "cell_type": "code",
      "metadata": {
        "id": "6BaYnpW1_T0e"
      },
      "source": [
        "first_eval_batch = scaled_train[-length:]"
      ],
      "execution_count": 40,
      "outputs": []
    },
    {
      "cell_type": "code",
      "metadata": {
        "id": "PLNbkVEw_o07"
      },
      "source": [
        "first_eval_batch = first_eval_batch.reshape((1, length, n_features))"
      ],
      "execution_count": 41,
      "outputs": []
    },
    {
      "cell_type": "code",
      "metadata": {
        "colab": {
          "base_uri": "https://localhost:8080/"
        },
        "id": "D7lB04V-AMpl",
        "outputId": "f9dcbfd7-a4c2-4c55-a775-1b554c55429c"
      },
      "source": [
        "model.predict(first_eval_batch)"
      ],
      "execution_count": 42,
      "outputs": [
        {
          "output_type": "execute_result",
          "data": {
            "text/plain": [
              "array([[0.9572039]], dtype=float32)"
            ]
          },
          "metadata": {
            "tags": []
          },
          "execution_count": 42
        }
      ]
    },
    {
      "cell_type": "code",
      "metadata": {
        "colab": {
          "base_uri": "https://localhost:8080/"
        },
        "id": "Set1O8bAAPo-",
        "outputId": "d0cfed70-bb97-4b9d-9bc3-3c4828ca3e02"
      },
      "source": [
        "scaled_test[0]"
      ],
      "execution_count": 43,
      "outputs": [
        {
          "output_type": "execute_result",
          "data": {
            "text/plain": [
              "array([0.94955134])"
            ]
          },
          "metadata": {
            "tags": []
          },
          "execution_count": 43
        }
      ]
    },
    {
      "cell_type": "code",
      "metadata": {
        "id": "DVV-0gfmAWPw"
      },
      "source": [
        "test_predictions = []\n",
        "\n",
        "first_eval_batch = scaled_train[-length:]\n",
        "current_batch = first_eval_batch.reshape((1, length, n_features))"
      ],
      "execution_count": 44,
      "outputs": []
    },
    {
      "cell_type": "code",
      "metadata": {
        "id": "ZQZib_TCByoS"
      },
      "source": [
        "for i in range(len(test)):\n",
        "  current_pred = model.predict(current_batch)[0]\n",
        "  \n",
        "  test_predictions.append(current_pred)\n",
        "  \n",
        "  current_batch = np.append(current_batch[:,1:,:], [[current_pred]], axis=1)"
      ],
      "execution_count": 45,
      "outputs": []
    },
    {
      "cell_type": "code",
      "metadata": {
        "colab": {
          "base_uri": "https://localhost:8080/"
        },
        "id": "EwnSNQJrD3Zl",
        "outputId": "26acef1c-3c95-4811-f63b-eb652bc72206"
      },
      "source": [
        "test_predictions"
      ],
      "execution_count": 46,
      "outputs": [
        {
          "output_type": "execute_result",
          "data": {
            "text/plain": [
              "[array([0.9572039], dtype=float32),\n",
              " array([0.97699094], dtype=float32),\n",
              " array([0.9945144], dtype=float32),\n",
              " array([1.0043489], dtype=float32),\n",
              " array([1.0116998], dtype=float32),\n",
              " array([1.0129669], dtype=float32),\n",
              " array([1.0091949], dtype=float32),\n",
              " array([1.0010282], dtype=float32),\n",
              " array([0.98786426], dtype=float32),\n",
              " array([0.97143734], dtype=float32),\n",
              " array([0.9464884], dtype=float32),\n",
              " array([0.9205721], dtype=float32),\n",
              " array([0.88822], dtype=float32),\n",
              " array([0.85620975], dtype=float32),\n",
              " array([0.8183527], dtype=float32),\n",
              " array([0.77794075], dtype=float32),\n",
              " array([0.73603684], dtype=float32),\n",
              " array([0.69071215], dtype=float32),\n",
              " array([0.64639837], dtype=float32),\n",
              " array([0.5968562], dtype=float32),\n",
              " array([0.5506471], dtype=float32),\n",
              " array([0.49962026], dtype=float32),\n",
              " array([0.45291716], dtype=float32),\n",
              " array([0.4024599], dtype=float32),\n",
              " array([0.35523888], dtype=float32),\n",
              " array([0.30947155], dtype=float32),\n",
              " array([0.26425794], dtype=float32),\n",
              " array([0.22454098], dtype=float32),\n",
              " array([0.1820859], dtype=float32),\n",
              " array([0.150024], dtype=float32),\n",
              " array([0.11415768], dtype=float32),\n",
              " array([0.08914591], dtype=float32),\n",
              " array([0.061629], dtype=float32),\n",
              " array([0.04329938], dtype=float32),\n",
              " array([0.02879354], dtype=float32),\n",
              " array([0.01593955], dtype=float32),\n",
              " array([0.01404545], dtype=float32),\n",
              " array([0.00729541], dtype=float32),\n",
              " array([0.0192059], dtype=float32),\n",
              " array([0.02080401], dtype=float32),\n",
              " array([0.04100849], dtype=float32),\n",
              " array([0.05339658], dtype=float32),\n",
              " array([0.08005456], dtype=float32),\n",
              " array([0.10737394], dtype=float32),\n",
              " array([0.13415614], dtype=float32),\n",
              " array([0.17644686], dtype=float32),\n",
              " array([0.2043235], dtype=float32),\n",
              " array([0.26026067], dtype=float32),\n",
              " array([0.28878284], dtype=float32),\n",
              " array([0.34855166], dtype=float32)]"
            ]
          },
          "metadata": {
            "tags": []
          },
          "execution_count": 46
        }
      ]
    },
    {
      "cell_type": "code",
      "metadata": {
        "colab": {
          "base_uri": "https://localhost:8080/"
        },
        "id": "RZGltrNGEIK3",
        "outputId": "0c352719-ac08-4b5e-de05-9be451cd6967"
      },
      "source": [
        "scaled_test"
      ],
      "execution_count": 47,
      "outputs": [
        {
          "output_type": "execute_result",
          "data": {
            "text/plain": [
              "array([[9.49551344e-01],\n",
              "       [9.69156618e-01],\n",
              "       [9.84074225e-01],\n",
              "       [9.94155114e-01],\n",
              "       [9.99298559e-01],\n",
              "       [9.99453170e-01],\n",
              "       [9.94617400e-01],\n",
              "       [9.84839568e-01],\n",
              "       [9.70217371e-01],\n",
              "       [9.50896908e-01],\n",
              "       [9.27071224e-01],\n",
              "       [8.98978376e-01],\n",
              "       [8.66899060e-01],\n",
              "       [8.31153800e-01],\n",
              "       [7.92099752e-01],\n",
              "       [7.50127132e-01],\n",
              "       [7.05655314e-01],\n",
              "       [6.59128649e-01],\n",
              "       [6.11012013e-01],\n",
              "       [5.61786173e-01],\n",
              "       [5.11942978e-01],\n",
              "       [4.61980443e-01],\n",
              "       [4.12397778e-01],\n",
              "       [3.63690397e-01],\n",
              "       [3.16344967e-01],\n",
              "       [2.70834550e-01],\n",
              "       [2.27613868e-01],\n",
              "       [1.87114770e-01],\n",
              "       [1.49741909e-01],\n",
              "       [1.15868702e-01],\n",
              "       [8.58335998e-02],\n",
              "       [5.99367021e-02],\n",
              "       [3.84367625e-02],\n",
              "       [2.15486014e-02],\n",
              "       [9.44095974e-03],\n",
              "       [2.23481297e-03],\n",
              "       [2.16257798e-06],\n",
              "       [2.76531647e-03],\n",
              "       [1.04966661e-02],\n",
              "       [2.31189624e-02],\n",
              "       [4.05060876e-02],\n",
              "       [6.24843152e-02],\n",
              "       [8.88340461e-02],\n",
              "       [1.19292002e-01],\n",
              "       [1.53553858e-01],\n",
              "       [1.91277281e-01],\n",
              "       [2.32085350e-01],\n",
              "       [2.75570325e-01],\n",
              "       [3.21297718e-01],\n",
              "       [3.68810636e-01]])"
            ]
          },
          "metadata": {
            "tags": []
          },
          "execution_count": 47
        }
      ]
    },
    {
      "cell_type": "code",
      "metadata": {
        "id": "B4HeWA0BEJRb"
      },
      "source": [
        "true_predictions = scaler.inverse_transform(test_predictions)"
      ],
      "execution_count": 48,
      "outputs": []
    },
    {
      "cell_type": "code",
      "metadata": {
        "colab": {
          "base_uri": "https://localhost:8080/"
        },
        "id": "TitDRuXTEQgF",
        "outputId": "b2024872-ef73-4811-ef74-e4ba8fe2096c"
      },
      "source": [
        "test['Predictions'] = true_predictions"
      ],
      "execution_count": 49,
      "outputs": [
        {
          "output_type": "stream",
          "text": [
            "/usr/local/lib/python3.7/dist-packages/ipykernel_launcher.py:1: SettingWithCopyWarning: \n",
            "A value is trying to be set on a copy of a slice from a DataFrame.\n",
            "Try using .loc[row_indexer,col_indexer] = value instead\n",
            "\n",
            "See the caveats in the documentation: https://pandas.pydata.org/pandas-docs/stable/user_guide/indexing.html#returning-a-view-versus-a-copy\n",
            "  \"\"\"Entry point for launching an IPython kernel.\n"
          ],
          "name": "stderr"
        }
      ]
    },
    {
      "cell_type": "code",
      "metadata": {
        "colab": {
          "base_uri": "https://localhost:8080/",
          "height": 1000
        },
        "id": "DuZiZO8GEWx9",
        "outputId": "a1b24d80-8c23-4146-db5b-001758ed1d45"
      },
      "source": [
        "test"
      ],
      "execution_count": 50,
      "outputs": [
        {
          "output_type": "execute_result",
          "data": {
            "text/html": [
              "<div>\n",
              "<style scoped>\n",
              "    .dataframe tbody tr th:only-of-type {\n",
              "        vertical-align: middle;\n",
              "    }\n",
              "\n",
              "    .dataframe tbody tr th {\n",
              "        vertical-align: top;\n",
              "    }\n",
              "\n",
              "    .dataframe thead th {\n",
              "        text-align: right;\n",
              "    }\n",
              "</style>\n",
              "<table border=\"1\" class=\"dataframe\">\n",
              "  <thead>\n",
              "    <tr style=\"text-align: right;\">\n",
              "      <th></th>\n",
              "      <th>Sine</th>\n",
              "      <th>Predictions</th>\n",
              "    </tr>\n",
              "  </thead>\n",
              "  <tbody>\n",
              "    <tr>\n",
              "      <th>45.1</th>\n",
              "      <td>0.899097</td>\n",
              "      <td>0.914402</td>\n",
              "    </tr>\n",
              "    <tr>\n",
              "      <th>45.2</th>\n",
              "      <td>0.938307</td>\n",
              "      <td>0.953976</td>\n",
              "    </tr>\n",
              "    <tr>\n",
              "      <th>45.3</th>\n",
              "      <td>0.968142</td>\n",
              "      <td>0.989023</td>\n",
              "    </tr>\n",
              "    <tr>\n",
              "      <th>45.4</th>\n",
              "      <td>0.988304</td>\n",
              "      <td>1.008691</td>\n",
              "    </tr>\n",
              "    <tr>\n",
              "      <th>45.5</th>\n",
              "      <td>0.998591</td>\n",
              "      <td>1.023393</td>\n",
              "    </tr>\n",
              "    <tr>\n",
              "      <th>45.6</th>\n",
              "      <td>0.998900</td>\n",
              "      <td>1.025927</td>\n",
              "    </tr>\n",
              "    <tr>\n",
              "      <th>45.7</th>\n",
              "      <td>0.989229</td>\n",
              "      <td>1.018383</td>\n",
              "    </tr>\n",
              "    <tr>\n",
              "      <th>45.8</th>\n",
              "      <td>0.969673</td>\n",
              "      <td>1.002050</td>\n",
              "    </tr>\n",
              "    <tr>\n",
              "      <th>45.9</th>\n",
              "      <td>0.940429</td>\n",
              "      <td>0.975722</td>\n",
              "    </tr>\n",
              "    <tr>\n",
              "      <th>46.0</th>\n",
              "      <td>0.901788</td>\n",
              "      <td>0.942869</td>\n",
              "    </tr>\n",
              "    <tr>\n",
              "      <th>46.1</th>\n",
              "      <td>0.854137</td>\n",
              "      <td>0.892971</td>\n",
              "    </tr>\n",
              "    <tr>\n",
              "      <th>46.2</th>\n",
              "      <td>0.797952</td>\n",
              "      <td>0.841139</td>\n",
              "    </tr>\n",
              "    <tr>\n",
              "      <th>46.3</th>\n",
              "      <td>0.733794</td>\n",
              "      <td>0.776436</td>\n",
              "    </tr>\n",
              "    <tr>\n",
              "      <th>46.4</th>\n",
              "      <td>0.662304</td>\n",
              "      <td>0.712416</td>\n",
              "    </tr>\n",
              "    <tr>\n",
              "      <th>46.5</th>\n",
              "      <td>0.584197</td>\n",
              "      <td>0.636702</td>\n",
              "    </tr>\n",
              "    <tr>\n",
              "      <th>46.6</th>\n",
              "      <td>0.500252</td>\n",
              "      <td>0.555879</td>\n",
              "    </tr>\n",
              "    <tr>\n",
              "      <th>46.7</th>\n",
              "      <td>0.411309</td>\n",
              "      <td>0.472072</td>\n",
              "    </tr>\n",
              "    <tr>\n",
              "      <th>46.8</th>\n",
              "      <td>0.318257</td>\n",
              "      <td>0.381423</td>\n",
              "    </tr>\n",
              "    <tr>\n",
              "      <th>46.9</th>\n",
              "      <td>0.222024</td>\n",
              "      <td>0.292796</td>\n",
              "    </tr>\n",
              "    <tr>\n",
              "      <th>47.0</th>\n",
              "      <td>0.123573</td>\n",
              "      <td>0.193713</td>\n",
              "    </tr>\n",
              "    <tr>\n",
              "      <th>47.1</th>\n",
              "      <td>0.023888</td>\n",
              "      <td>0.101295</td>\n",
              "    </tr>\n",
              "    <tr>\n",
              "      <th>47.2</th>\n",
              "      <td>-0.076037</td>\n",
              "      <td>-0.000758</td>\n",
              "    </tr>\n",
              "    <tr>\n",
              "      <th>47.3</th>\n",
              "      <td>-0.175201</td>\n",
              "      <td>-0.094163</td>\n",
              "    </tr>\n",
              "    <tr>\n",
              "      <th>47.4</th>\n",
              "      <td>-0.272615</td>\n",
              "      <td>-0.195077</td>\n",
              "    </tr>\n",
              "    <tr>\n",
              "      <th>47.5</th>\n",
              "      <td>-0.367305</td>\n",
              "      <td>-0.289518</td>\n",
              "    </tr>\n",
              "    <tr>\n",
              "      <th>47.6</th>\n",
              "      <td>-0.458325</td>\n",
              "      <td>-0.381052</td>\n",
              "    </tr>\n",
              "    <tr>\n",
              "      <th>47.7</th>\n",
              "      <td>-0.544766</td>\n",
              "      <td>-0.471479</td>\n",
              "    </tr>\n",
              "    <tr>\n",
              "      <th>47.8</th>\n",
              "      <td>-0.625764</td>\n",
              "      <td>-0.550912</td>\n",
              "    </tr>\n",
              "    <tr>\n",
              "      <th>47.9</th>\n",
              "      <td>-0.700509</td>\n",
              "      <td>-0.635821</td>\n",
              "    </tr>\n",
              "    <tr>\n",
              "      <th>48.0</th>\n",
              "      <td>-0.768255</td>\n",
              "      <td>-0.699945</td>\n",
              "    </tr>\n",
              "    <tr>\n",
              "      <th>48.1</th>\n",
              "      <td>-0.828324</td>\n",
              "      <td>-0.771677</td>\n",
              "    </tr>\n",
              "    <tr>\n",
              "      <th>48.2</th>\n",
              "      <td>-0.880118</td>\n",
              "      <td>-0.821700</td>\n",
              "    </tr>\n",
              "    <tr>\n",
              "      <th>48.3</th>\n",
              "      <td>-0.923117</td>\n",
              "      <td>-0.876733</td>\n",
              "    </tr>\n",
              "    <tr>\n",
              "      <th>48.4</th>\n",
              "      <td>-0.956893</td>\n",
              "      <td>-0.913392</td>\n",
              "    </tr>\n",
              "    <tr>\n",
              "      <th>48.5</th>\n",
              "      <td>-0.981108</td>\n",
              "      <td>-0.942404</td>\n",
              "    </tr>\n",
              "    <tr>\n",
              "      <th>48.6</th>\n",
              "      <td>-0.995521</td>\n",
              "      <td>-0.968111</td>\n",
              "    </tr>\n",
              "    <tr>\n",
              "      <th>48.7</th>\n",
              "      <td>-0.999986</td>\n",
              "      <td>-0.971900</td>\n",
              "    </tr>\n",
              "    <tr>\n",
              "      <th>48.8</th>\n",
              "      <td>-0.994460</td>\n",
              "      <td>-0.985399</td>\n",
              "    </tr>\n",
              "    <tr>\n",
              "      <th>48.9</th>\n",
              "      <td>-0.978997</td>\n",
              "      <td>-0.961579</td>\n",
              "    </tr>\n",
              "    <tr>\n",
              "      <th>49.0</th>\n",
              "      <td>-0.953753</td>\n",
              "      <td>-0.958383</td>\n",
              "    </tr>\n",
              "    <tr>\n",
              "      <th>49.1</th>\n",
              "      <td>-0.918979</td>\n",
              "      <td>-0.917974</td>\n",
              "    </tr>\n",
              "    <tr>\n",
              "      <th>49.2</th>\n",
              "      <td>-0.875023</td>\n",
              "      <td>-0.893198</td>\n",
              "    </tr>\n",
              "    <tr>\n",
              "      <th>49.3</th>\n",
              "      <td>-0.822324</td>\n",
              "      <td>-0.839882</td>\n",
              "    </tr>\n",
              "    <tr>\n",
              "      <th>49.4</th>\n",
              "      <td>-0.761408</td>\n",
              "      <td>-0.785244</td>\n",
              "    </tr>\n",
              "    <tr>\n",
              "      <th>49.5</th>\n",
              "      <td>-0.692885</td>\n",
              "      <td>-0.731680</td>\n",
              "    </tr>\n",
              "    <tr>\n",
              "      <th>49.6</th>\n",
              "      <td>-0.617439</td>\n",
              "      <td>-0.647099</td>\n",
              "    </tr>\n",
              "    <tr>\n",
              "      <th>49.7</th>\n",
              "      <td>-0.535823</td>\n",
              "      <td>-0.591346</td>\n",
              "    </tr>\n",
              "    <tr>\n",
              "      <th>49.8</th>\n",
              "      <td>-0.448854</td>\n",
              "      <td>-0.479473</td>\n",
              "    </tr>\n",
              "    <tr>\n",
              "      <th>49.9</th>\n",
              "      <td>-0.357400</td>\n",
              "      <td>-0.422429</td>\n",
              "    </tr>\n",
              "    <tr>\n",
              "      <th>50.0</th>\n",
              "      <td>-0.262375</td>\n",
              "      <td>-0.302892</td>\n",
              "    </tr>\n",
              "  </tbody>\n",
              "</table>\n",
              "</div>"
            ],
            "text/plain": [
              "          Sine  Predictions\n",
              "45.1  0.899097     0.914402\n",
              "45.2  0.938307     0.953976\n",
              "45.3  0.968142     0.989023\n",
              "45.4  0.988304     1.008691\n",
              "45.5  0.998591     1.023393\n",
              "45.6  0.998900     1.025927\n",
              "45.7  0.989229     1.018383\n",
              "45.8  0.969673     1.002050\n",
              "45.9  0.940429     0.975722\n",
              "46.0  0.901788     0.942869\n",
              "46.1  0.854137     0.892971\n",
              "46.2  0.797952     0.841139\n",
              "46.3  0.733794     0.776436\n",
              "46.4  0.662304     0.712416\n",
              "46.5  0.584197     0.636702\n",
              "46.6  0.500252     0.555879\n",
              "46.7  0.411309     0.472072\n",
              "46.8  0.318257     0.381423\n",
              "46.9  0.222024     0.292796\n",
              "47.0  0.123573     0.193713\n",
              "47.1  0.023888     0.101295\n",
              "47.2 -0.076037    -0.000758\n",
              "47.3 -0.175201    -0.094163\n",
              "47.4 -0.272615    -0.195077\n",
              "47.5 -0.367305    -0.289518\n",
              "47.6 -0.458325    -0.381052\n",
              "47.7 -0.544766    -0.471479\n",
              "47.8 -0.625764    -0.550912\n",
              "47.9 -0.700509    -0.635821\n",
              "48.0 -0.768255    -0.699945\n",
              "48.1 -0.828324    -0.771677\n",
              "48.2 -0.880118    -0.821700\n",
              "48.3 -0.923117    -0.876733\n",
              "48.4 -0.956893    -0.913392\n",
              "48.5 -0.981108    -0.942404\n",
              "48.6 -0.995521    -0.968111\n",
              "48.7 -0.999986    -0.971900\n",
              "48.8 -0.994460    -0.985399\n",
              "48.9 -0.978997    -0.961579\n",
              "49.0 -0.953753    -0.958383\n",
              "49.1 -0.918979    -0.917974\n",
              "49.2 -0.875023    -0.893198\n",
              "49.3 -0.822324    -0.839882\n",
              "49.4 -0.761408    -0.785244\n",
              "49.5 -0.692885    -0.731680\n",
              "49.6 -0.617439    -0.647099\n",
              "49.7 -0.535823    -0.591346\n",
              "49.8 -0.448854    -0.479473\n",
              "49.9 -0.357400    -0.422429\n",
              "50.0 -0.262375    -0.302892"
            ]
          },
          "metadata": {
            "tags": []
          },
          "execution_count": 50
        }
      ]
    },
    {
      "cell_type": "code",
      "metadata": {
        "colab": {
          "base_uri": "https://localhost:8080/",
          "height": 282
        },
        "id": "kx8zTqdaEXt-",
        "outputId": "5706a84d-af5e-4bbc-a0c3-284619ab7071"
      },
      "source": [
        "test.plot()"
      ],
      "execution_count": 51,
      "outputs": [
        {
          "output_type": "execute_result",
          "data": {
            "text/plain": [
              "<matplotlib.axes._subplots.AxesSubplot at 0x7fa8d7285610>"
            ]
          },
          "metadata": {
            "tags": []
          },
          "execution_count": 51
        },
        {
          "output_type": "display_data",
          "data": {
            "image/png": "[encoded data removed]",
            "text/plain": [
              "<Figure size 432x288 with 1 Axes>"
            ]
          },
          "metadata": {
            "tags": [],
            "needs_background": "light"
          }
        }
      ]
    },
    {
      "cell_type": "markdown",
      "metadata": {
        "id": "wDDAvz4QFEa_"
      },
      "source": [
        "### Early Stopping"
      ]
    },
    {
      "cell_type": "code",
      "metadata": {
        "id": "UpwTNbF7EfCF"
      },
      "source": [
        "from tensorflow.keras.callbacks import EarlyStopping"
      ],
      "execution_count": 52,
      "outputs": []
    },
    {
      "cell_type": "code",
      "metadata": {
        "id": "iR54wi3fFQGl"
      },
      "source": [
        "early_stop = EarlyStopping(monitor='val_loss', patience=2)"
      ],
      "execution_count": 53,
      "outputs": []
    },
    {
      "cell_type": "code",
      "metadata": {
        "id": "JSg2-c6QFnq0"
      },
      "source": [
        "length = 49\n",
        "\n",
        "generator  = TimeseriesGenerator(scaled_train, scaled_train, length=length, batch_size=1)\n",
        "\n",
        "validation_generator = TimeseriesGenerator(scaled_test, scaled_test, length=length, batch_size=1)"
      ],
      "execution_count": 54,
      "outputs": []
    },
    {
      "cell_type": "code",
      "metadata": {
        "id": "lTF3ji7nGZ8L"
      },
      "source": [
        "model = Sequential()\n",
        "\n",
        "model.add(LSTM(50, input_shape=(length,n_features)))\n",
        "\n",
        "model.add(Dense(1))\n",
        "\n",
        "model.compile(optimizer='adam',loss='mse')"
      ],
      "execution_count": 55,
      "outputs": []
    },
    {
      "cell_type": "code",
      "metadata": {
        "colab": {
          "base_uri": "https://localhost:8080/"
        },
        "id": "D_DJocS1Grft",
        "outputId": "19dca3ec-7210-44e3-8513-c2762ffae4ec"
      },
      "source": [
        "model.fit_generator(generator, epochs=20, validation_data=validation_generator, callbacks=[early_stop])"
      ],
      "execution_count": 56,
      "outputs": [
        {
          "output_type": "stream",
          "text": [
            "/usr/local/lib/python3.7/dist-packages/tensorflow/python/keras/engine/training.py:1940: UserWarning: `Model.fit_generator` is deprecated and will be removed in a future version. Please use `Model.fit`, which supports generators.\n",
            "  warnings.warn('`Model.fit_generator` is deprecated and '\n"
          ],
          "name": "stderr"
        },
        {
          "output_type": "stream",
          "text": [
            "Epoch 1/20\n",
            "402/402 [==============================] - 10s 20ms/step - loss: 0.0243 - val_loss: 8.2789e-05\n",
            "Epoch 2/20\n",
            "402/402 [==============================] - 8s 19ms/step - loss: 2.2862e-04 - val_loss: 9.7282e-05\n",
            "Epoch 3/20\n",
            "402/402 [==============================] - 8s 19ms/step - loss: 1.2228e-04 - val_loss: 9.1804e-05\n"
          ],
          "name": "stdout"
        },
        {
          "output_type": "execute_result",
          "data": {
            "text/plain": [
              "<tensorflow.python.keras.callbacks.History at 0x7fa8d4584f90>"
            ]
          },
          "metadata": {
            "tags": []
          },
          "execution_count": 56
        }
      ]
    },
    {
      "cell_type": "code",
      "metadata": {
        "id": "gIl7-ZrbG18b"
      },
      "source": [
        "test_predictions = []\n",
        "\n",
        "first_eval_batch = scaled_train[-length:]\n",
        "current_batch = first_eval_batch.reshape((1, length, n_features))\n",
        "\n",
        "for i in range(len(test)):\n",
        "  current_pred = model.predict(current_batch)[0]\n",
        "  \n",
        "  test_predictions.append(current_pred)\n",
        "  \n",
        "  current_batch = np.append(current_batch[:,1:,:], [[current_pred]], axis=1)"
      ],
      "execution_count": 57,
      "outputs": []
    },
    {
      "cell_type": "code",
      "metadata": {
        "colab": {
          "base_uri": "https://localhost:8080/",
          "height": 382
        },
        "id": "AEdhp8pSHNFM",
        "outputId": "b8594c7e-e556-4315-fe9d-542db8f86ab9"
      },
      "source": [
        "true_predictions = scaler.inverse_transform(test_predictions)\n",
        "\n",
        "test['LSTM Predictions'] = true_predictions\n",
        "\n",
        "test.plot()"
      ],
      "execution_count": 58,
      "outputs": [
        {
          "output_type": "stream",
          "text": [
            "/usr/local/lib/python3.7/dist-packages/ipykernel_launcher.py:3: SettingWithCopyWarning: \n",
            "A value is trying to be set on a copy of a slice from a DataFrame.\n",
            "Try using .loc[row_indexer,col_indexer] = value instead\n",
            "\n",
            "See the caveats in the documentation: https://pandas.pydata.org/pandas-docs/stable/user_guide/indexing.html#returning-a-view-versus-a-copy\n",
            "  This is separate from the ipykernel package so we can avoid doing imports until\n"
          ],
          "name": "stderr"
        },
        {
          "output_type": "execute_result",
          "data": {
            "text/plain": [
              "<matplotlib.axes._subplots.AxesSubplot at 0x7fa8d410de90>"
            ]
          },
          "metadata": {
            "tags": []
          },
          "execution_count": 58
        },
        {
          "output_type": "display_data",
          "data": {
            "image/png": "[encoded data removed]",
            "text/plain": [
              "<Figure size 432x288 with 1 Axes>"
            ]
          },
          "metadata": {
            "tags": [],
            "needs_background": "light"
          }
        }
      ]
    },
    {
      "cell_type": "markdown",
      "metadata": {
        "id": "puQT4q60JI6Z"
      },
      "source": [
        "### Forecasting"
      ]
    },
    {
      "cell_type": "code",
      "metadata": {
        "id": "yl49ug8IHbHY"
      },
      "source": [
        "full_scaler = MinMaxScaler()\n",
        "scaled_full_data = full_scaler.fit_transform(df)"
      ],
      "execution_count": 59,
      "outputs": []
    },
    {
      "cell_type": "code",
      "metadata": {
        "id": "z0TLNQQNH1MW"
      },
      "source": [
        "generator  = TimeseriesGenerator(scaled_full_data, scaled_full_data, length=length, batch_size=1)"
      ],
      "execution_count": 60,
      "outputs": []
    },
    {
      "cell_type": "code",
      "metadata": {
        "id": "MuWl52HdH9c-"
      },
      "source": [
        "model = Sequential()\n",
        "\n",
        "model.add(LSTM(50, input_shape=(length,n_features)))\n",
        "\n",
        "model.add(Dense(1))\n",
        "\n",
        "model.compile(optimizer='adam',loss='mse')"
      ],
      "execution_count": 61,
      "outputs": []
    },
    {
      "cell_type": "code",
      "metadata": {
        "colab": {
          "base_uri": "https://localhost:8080/"
        },
        "id": "pqWq_2UsIKk3",
        "outputId": "6d09fdb5-40c3-4623-d3e2-507e82ece13e"
      },
      "source": [
        "model.fit_generator(generator, epochs=6)"
      ],
      "execution_count": 62,
      "outputs": [
        {
          "output_type": "stream",
          "text": [
            "/usr/local/lib/python3.7/dist-packages/tensorflow/python/keras/engine/training.py:1940: UserWarning: `Model.fit_generator` is deprecated and will be removed in a future version. Please use `Model.fit`, which supports generators.\n",
            "  warnings.warn('`Model.fit_generator` is deprecated and '\n"
          ],
          "name": "stderr"
        },
        {
          "output_type": "stream",
          "text": [
            "Epoch 1/6\n",
            "452/452 [==============================] - 11s 20ms/step - loss: 0.0152\n",
            "Epoch 2/6\n",
            "452/452 [==============================] - 9s 19ms/step - loss: 1.8243e-04\n",
            "Epoch 3/6\n",
            "452/452 [==============================] - 9s 19ms/step - loss: 1.4964e-04\n",
            "Epoch 4/6\n",
            "452/452 [==============================] - 9s 19ms/step - loss: 3.2877e-04\n",
            "Epoch 5/6\n",
            "452/452 [==============================] - 9s 20ms/step - loss: 3.3875e-04\n",
            "Epoch 6/6\n",
            "452/452 [==============================] - 9s 20ms/step - loss: 1.0493e-04\n"
          ],
          "name": "stdout"
        },
        {
          "output_type": "execute_result",
          "data": {
            "text/plain": [
              "<tensorflow.python.keras.callbacks.History at 0x7fa8d276d750>"
            ]
          },
          "metadata": {
            "tags": []
          },
          "execution_count": 62
        }
      ]
    },
    {
      "cell_type": "code",
      "metadata": {
        "id": "dazIYRNnIQXY"
      },
      "source": [
        "forecast = []\n",
        "\n",
        "first_eval_batch = scaled_train[-length:]\n",
        "current_batch = first_eval_batch.reshape((1, length, n_features))\n",
        "\n",
        "for i in range(25):\n",
        "  current_pred = model.predict(current_batch)[0]\n",
        "  \n",
        "  forecast.append(current_pred)\n",
        "  \n",
        "  current_batch = np.append(current_batch[:,1:,:], [[current_pred]], axis=1)"
      ],
      "execution_count": 63,
      "outputs": []
    },
    {
      "cell_type": "code",
      "metadata": {
        "id": "SVytH9ujIgbm"
      },
      "source": [
        "forecast = scaler.inverse_transform(forecast)"
      ],
      "execution_count": 64,
      "outputs": []
    },
    {
      "cell_type": "code",
      "metadata": {
        "id": "k9XaTv26IpVn"
      },
      "source": [
        "forecast_index = np.arange(50.1,52.6,step=0.1)"
      ],
      "execution_count": 65,
      "outputs": []
    },
    {
      "cell_type": "code",
      "metadata": {
        "colab": {
          "base_uri": "https://localhost:8080/",
          "height": 282
        },
        "id": "CEXKZYD4I6Tf",
        "outputId": "4f99f686-886e-4d7f-c436-a0b8b29f2251"
      },
      "source": [
        "plt.plot(df.index, df['Sine'])\n",
        "plt.plot(forecast_index, forecast)"
      ],
      "execution_count": 66,
      "outputs": [
        {
          "output_type": "execute_result",
          "data": {
            "text/plain": [
              "[<matplotlib.lines.Line2D at 0x7fa8d113a150>]"
            ]
          },
          "metadata": {
            "tags": []
          },
          "execution_count": 66
        },
        {
          "output_type": "display_data",
          "data": {
            "image/png": "[encoded data removed]",
            "text/plain": [
              "<Figure size 432x288 with 1 Axes>"
            ]
          },
          "metadata": {
            "tags": [],
            "needs_background": "light"
          }
        }
      ]
    }
  ]
}