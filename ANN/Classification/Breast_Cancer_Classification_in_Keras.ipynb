{
  "nbformat": 4,
  "nbformat_minor": 0,
  "metadata": {
    "colab": {
      "name": "Breast Cancer Classification in Keras.ipynb",
      "provenance": [],
      "collapsed_sections": []
    },
    "kernelspec": {
      "name": "python3",
      "display_name": "Python 3"
    },
    "language_info": {
      "name": "python"
    }
  },
  "cells": [
    {
      "cell_type": "markdown",
      "metadata": {
        "id": "9RDYqWC8wuNk"
      },
      "source": [
        "### Importing Data"
      ]
    },
    {
      "cell_type": "code",
      "metadata": {
        "id": "OqCAcK-KCeZB"
      },
      "source": [
        "import pandas as pd\n",
        "import numpy as np\n",
        "import matplotlib.pyplot as plt\n",
        "import seaborn as sns"
      ],
      "execution_count": null,
      "outputs": []
    },
    {
      "cell_type": "code",
      "metadata": {
        "id": "0eo71-UZCuC5"
      },
      "source": [
        "df = pd.read_csv('breast_cancer.csv')"
      ],
      "execution_count": null,
      "outputs": []
    },
    {
      "cell_type": "code",
      "metadata": {
        "colab": {
          "base_uri": "https://localhost:8080/",
          "height": 232
        },
        "id": "UTiOWPlsIKmS",
        "outputId": "8367077d-641f-49af-c07a-031f471c83c6"
      },
      "source": [
        "df.head()"
      ],
      "execution_count": null,
      "outputs": [
        {
          "output_type": "execute_result",
          "data": {
            "text/html": [
              "<div>\n",
              "<style scoped>\n",
              "    .dataframe tbody tr th:only-of-type {\n",
              "        vertical-align: middle;\n",
              "    }\n",
              "\n",
              "    .dataframe tbody tr th {\n",
              "        vertical-align: top;\n",
              "    }\n",
              "\n",
              "    .dataframe thead th {\n",
              "        text-align: right;\n",
              "    }\n",
              "</style>\n",
              "<table border=\"1\" class=\"dataframe\">\n",
              "  <thead>\n",
              "    <tr style=\"text-align: right;\">\n",
              "      <th></th>\n",
              "      <th>id</th>\n",
              "      <th>diagnosis</th>\n",
              "      <th>radius_mean</th>\n",
              "      <th>texture_mean</th>\n",
              "      <th>perimeter_mean</th>\n",
              "      <th>area_mean</th>\n",
              "      <th>smoothness_mean</th>\n",
              "      <th>compactness_mean</th>\n",
              "      <th>concavity_mean</th>\n",
              "      <th>concave points_mean</th>\n",
              "      <th>symmetry_mean</th>\n",
              "      <th>fractal_dimension_mean</th>\n",
              "      <th>radius_se</th>\n",
              "      <th>texture_se</th>\n",
              "      <th>perimeter_se</th>\n",
              "      <th>area_se</th>\n",
              "      <th>smoothness_se</th>\n",
              "      <th>compactness_se</th>\n",
              "      <th>concavity_se</th>\n",
              "      <th>concave points_se</th>\n",
              "      <th>symmetry_se</th>\n",
              "      <th>fractal_dimension_se</th>\n",
              "      <th>radius_worst</th>\n",
              "      <th>texture_worst</th>\n",
              "      <th>perimeter_worst</th>\n",
              "      <th>area_worst</th>\n",
              "      <th>smoothness_worst</th>\n",
              "      <th>compactness_worst</th>\n",
              "      <th>concavity_worst</th>\n",
              "      <th>concave points_worst</th>\n",
              "      <th>symmetry_worst</th>\n",
              "      <th>fractal_dimension_worst</th>\n",
              "    </tr>\n",
              "  </thead>\n",
              "  <tbody>\n",
              "    <tr>\n",
              "      <th>0</th>\n",
              "      <td>842302</td>\n",
              "      <td>M</td>\n",
              "      <td>17.99</td>\n",
              "      <td>10.38</td>\n",
              "      <td>122.80</td>\n",
              "      <td>1001.0</td>\n",
              "      <td>0.11840</td>\n",
              "      <td>0.27760</td>\n",
              "      <td>0.3001</td>\n",
              "      <td>0.14710</td>\n",
              "      <td>0.2419</td>\n",
              "      <td>0.07871</td>\n",
              "      <td>1.0950</td>\n",
              "      <td>0.9053</td>\n",
              "      <td>8.589</td>\n",
              "      <td>153.40</td>\n",
              "      <td>0.006399</td>\n",
              "      <td>0.04904</td>\n",
              "      <td>0.05373</td>\n",
              "      <td>0.01587</td>\n",
              "      <td>0.03003</td>\n",
              "      <td>0.006193</td>\n",
              "      <td>25.38</td>\n",
              "      <td>17.33</td>\n",
              "      <td>184.60</td>\n",
              "      <td>2019.0</td>\n",
              "      <td>0.1622</td>\n",
              "      <td>0.6656</td>\n",
              "      <td>0.7119</td>\n",
              "      <td>0.2654</td>\n",
              "      <td>0.4601</td>\n",
              "      <td>0.11890</td>\n",
              "    </tr>\n",
              "    <tr>\n",
              "      <th>1</th>\n",
              "      <td>842517</td>\n",
              "      <td>M</td>\n",
              "      <td>20.57</td>\n",
              "      <td>17.77</td>\n",
              "      <td>132.90</td>\n",
              "      <td>1326.0</td>\n",
              "      <td>0.08474</td>\n",
              "      <td>0.07864</td>\n",
              "      <td>0.0869</td>\n",
              "      <td>0.07017</td>\n",
              "      <td>0.1812</td>\n",
              "      <td>0.05667</td>\n",
              "      <td>0.5435</td>\n",
              "      <td>0.7339</td>\n",
              "      <td>3.398</td>\n",
              "      <td>74.08</td>\n",
              "      <td>0.005225</td>\n",
              "      <td>0.01308</td>\n",
              "      <td>0.01860</td>\n",
              "      <td>0.01340</td>\n",
              "      <td>0.01389</td>\n",
              "      <td>0.003532</td>\n",
              "      <td>24.99</td>\n",
              "      <td>23.41</td>\n",
              "      <td>158.80</td>\n",
              "      <td>1956.0</td>\n",
              "      <td>0.1238</td>\n",
              "      <td>0.1866</td>\n",
              "      <td>0.2416</td>\n",
              "      <td>0.1860</td>\n",
              "      <td>0.2750</td>\n",
              "      <td>0.08902</td>\n",
              "    </tr>\n",
              "    <tr>\n",
              "      <th>2</th>\n",
              "      <td>84300903</td>\n",
              "      <td>M</td>\n",
              "      <td>19.69</td>\n",
              "      <td>21.25</td>\n",
              "      <td>130.00</td>\n",
              "      <td>1203.0</td>\n",
              "      <td>0.10960</td>\n",
              "      <td>0.15990</td>\n",
              "      <td>0.1974</td>\n",
              "      <td>0.12790</td>\n",
              "      <td>0.2069</td>\n",
              "      <td>0.05999</td>\n",
              "      <td>0.7456</td>\n",
              "      <td>0.7869</td>\n",
              "      <td>4.585</td>\n",
              "      <td>94.03</td>\n",
              "      <td>0.006150</td>\n",
              "      <td>0.04006</td>\n",
              "      <td>0.03832</td>\n",
              "      <td>0.02058</td>\n",
              "      <td>0.02250</td>\n",
              "      <td>0.004571</td>\n",
              "      <td>23.57</td>\n",
              "      <td>25.53</td>\n",
              "      <td>152.50</td>\n",
              "      <td>1709.0</td>\n",
              "      <td>0.1444</td>\n",
              "      <td>0.4245</td>\n",
              "      <td>0.4504</td>\n",
              "      <td>0.2430</td>\n",
              "      <td>0.3613</td>\n",
              "      <td>0.08758</td>\n",
              "    </tr>\n",
              "    <tr>\n",
              "      <th>3</th>\n",
              "      <td>84348301</td>\n",
              "      <td>M</td>\n",
              "      <td>11.42</td>\n",
              "      <td>20.38</td>\n",
              "      <td>77.58</td>\n",
              "      <td>386.1</td>\n",
              "      <td>0.14250</td>\n",
              "      <td>0.28390</td>\n",
              "      <td>0.2414</td>\n",
              "      <td>0.10520</td>\n",
              "      <td>0.2597</td>\n",
              "      <td>0.09744</td>\n",
              "      <td>0.4956</td>\n",
              "      <td>1.1560</td>\n",
              "      <td>3.445</td>\n",
              "      <td>27.23</td>\n",
              "      <td>0.009110</td>\n",
              "      <td>0.07458</td>\n",
              "      <td>0.05661</td>\n",
              "      <td>0.01867</td>\n",
              "      <td>0.05963</td>\n",
              "      <td>0.009208</td>\n",
              "      <td>14.91</td>\n",
              "      <td>26.50</td>\n",
              "      <td>98.87</td>\n",
              "      <td>567.7</td>\n",
              "      <td>0.2098</td>\n",
              "      <td>0.8663</td>\n",
              "      <td>0.6869</td>\n",
              "      <td>0.2575</td>\n",
              "      <td>0.6638</td>\n",
              "      <td>0.17300</td>\n",
              "    </tr>\n",
              "    <tr>\n",
              "      <th>4</th>\n",
              "      <td>84358402</td>\n",
              "      <td>M</td>\n",
              "      <td>20.29</td>\n",
              "      <td>14.34</td>\n",
              "      <td>135.10</td>\n",
              "      <td>1297.0</td>\n",
              "      <td>0.10030</td>\n",
              "      <td>0.13280</td>\n",
              "      <td>0.1980</td>\n",
              "      <td>0.10430</td>\n",
              "      <td>0.1809</td>\n",
              "      <td>0.05883</td>\n",
              "      <td>0.7572</td>\n",
              "      <td>0.7813</td>\n",
              "      <td>5.438</td>\n",
              "      <td>94.44</td>\n",
              "      <td>0.011490</td>\n",
              "      <td>0.02461</td>\n",
              "      <td>0.05688</td>\n",
              "      <td>0.01885</td>\n",
              "      <td>0.01756</td>\n",
              "      <td>0.005115</td>\n",
              "      <td>22.54</td>\n",
              "      <td>16.67</td>\n",
              "      <td>152.20</td>\n",
              "      <td>1575.0</td>\n",
              "      <td>0.1374</td>\n",
              "      <td>0.2050</td>\n",
              "      <td>0.4000</td>\n",
              "      <td>0.1625</td>\n",
              "      <td>0.2364</td>\n",
              "      <td>0.07678</td>\n",
              "    </tr>\n",
              "  </tbody>\n",
              "</table>\n",
              "</div>"
            ],
            "text/plain": [
              "         id diagnosis  ...  symmetry_worst  fractal_dimension_worst\n",
              "0    842302         M  ...          0.4601                  0.11890\n",
              "1    842517         M  ...          0.2750                  0.08902\n",
              "2  84300903         M  ...          0.3613                  0.08758\n",
              "3  84348301         M  ...          0.6638                  0.17300\n",
              "4  84358402         M  ...          0.2364                  0.07678\n",
              "\n",
              "[5 rows x 32 columns]"
            ]
          },
          "metadata": {
            "tags": []
          },
          "execution_count": 9
        }
      ]
    },
    {
      "cell_type": "code",
      "metadata": {
        "id": "vrS7u9uFPsqz"
      },
      "source": [
        "df = df.drop('id',axis=1)"
      ],
      "execution_count": null,
      "outputs": []
    },
    {
      "cell_type": "markdown",
      "metadata": {
        "id": "_MHGwdx8w4Py"
      },
      "source": [
        "### Exploratory Data Analysis"
      ]
    },
    {
      "cell_type": "code",
      "metadata": {
        "colab": {
          "base_uri": "https://localhost:8080/",
          "height": 935
        },
        "id": "mp7IFBq7INGT",
        "outputId": "a9cc01df-fd3b-4de0-87d8-1c89690ca3d2"
      },
      "source": [
        "df.describe().transpose()"
      ],
      "execution_count": null,
      "outputs": [
        {
          "output_type": "execute_result",
          "data": {
            "text/html": [
              "<div>\n",
              "<style scoped>\n",
              "    .dataframe tbody tr th:only-of-type {\n",
              "        vertical-align: middle;\n",
              "    }\n",
              "\n",
              "    .dataframe tbody tr th {\n",
              "        vertical-align: top;\n",
              "    }\n",
              "\n",
              "    .dataframe thead th {\n",
              "        text-align: right;\n",
              "    }\n",
              "</style>\n",
              "<table border=\"1\" class=\"dataframe\">\n",
              "  <thead>\n",
              "    <tr style=\"text-align: right;\">\n",
              "      <th></th>\n",
              "      <th>count</th>\n",
              "      <th>mean</th>\n",
              "      <th>std</th>\n",
              "      <th>min</th>\n",
              "      <th>25%</th>\n",
              "      <th>50%</th>\n",
              "      <th>75%</th>\n",
              "      <th>max</th>\n",
              "    </tr>\n",
              "  </thead>\n",
              "  <tbody>\n",
              "    <tr>\n",
              "      <th>radius_mean</th>\n",
              "      <td>569.0</td>\n",
              "      <td>14.127292</td>\n",
              "      <td>3.524049</td>\n",
              "      <td>6.981000</td>\n",
              "      <td>11.700000</td>\n",
              "      <td>13.370000</td>\n",
              "      <td>15.780000</td>\n",
              "      <td>28.11000</td>\n",
              "    </tr>\n",
              "    <tr>\n",
              "      <th>texture_mean</th>\n",
              "      <td>569.0</td>\n",
              "      <td>19.289649</td>\n",
              "      <td>4.301036</td>\n",
              "      <td>9.710000</td>\n",
              "      <td>16.170000</td>\n",
              "      <td>18.840000</td>\n",
              "      <td>21.800000</td>\n",
              "      <td>39.28000</td>\n",
              "    </tr>\n",
              "    <tr>\n",
              "      <th>perimeter_mean</th>\n",
              "      <td>569.0</td>\n",
              "      <td>91.969033</td>\n",
              "      <td>24.298981</td>\n",
              "      <td>43.790000</td>\n",
              "      <td>75.170000</td>\n",
              "      <td>86.240000</td>\n",
              "      <td>104.100000</td>\n",
              "      <td>188.50000</td>\n",
              "    </tr>\n",
              "    <tr>\n",
              "      <th>area_mean</th>\n",
              "      <td>569.0</td>\n",
              "      <td>654.889104</td>\n",
              "      <td>351.914129</td>\n",
              "      <td>143.500000</td>\n",
              "      <td>420.300000</td>\n",
              "      <td>551.100000</td>\n",
              "      <td>782.700000</td>\n",
              "      <td>2501.00000</td>\n",
              "    </tr>\n",
              "    <tr>\n",
              "      <th>smoothness_mean</th>\n",
              "      <td>569.0</td>\n",
              "      <td>0.096360</td>\n",
              "      <td>0.014064</td>\n",
              "      <td>0.052630</td>\n",
              "      <td>0.086370</td>\n",
              "      <td>0.095870</td>\n",
              "      <td>0.105300</td>\n",
              "      <td>0.16340</td>\n",
              "    </tr>\n",
              "    <tr>\n",
              "      <th>compactness_mean</th>\n",
              "      <td>569.0</td>\n",
              "      <td>0.104341</td>\n",
              "      <td>0.052813</td>\n",
              "      <td>0.019380</td>\n",
              "      <td>0.064920</td>\n",
              "      <td>0.092630</td>\n",
              "      <td>0.130400</td>\n",
              "      <td>0.34540</td>\n",
              "    </tr>\n",
              "    <tr>\n",
              "      <th>concavity_mean</th>\n",
              "      <td>569.0</td>\n",
              "      <td>0.088799</td>\n",
              "      <td>0.079720</td>\n",
              "      <td>0.000000</td>\n",
              "      <td>0.029560</td>\n",
              "      <td>0.061540</td>\n",
              "      <td>0.130700</td>\n",
              "      <td>0.42680</td>\n",
              "    </tr>\n",
              "    <tr>\n",
              "      <th>concave points_mean</th>\n",
              "      <td>569.0</td>\n",
              "      <td>0.048919</td>\n",
              "      <td>0.038803</td>\n",
              "      <td>0.000000</td>\n",
              "      <td>0.020310</td>\n",
              "      <td>0.033500</td>\n",
              "      <td>0.074000</td>\n",
              "      <td>0.20120</td>\n",
              "    </tr>\n",
              "    <tr>\n",
              "      <th>symmetry_mean</th>\n",
              "      <td>569.0</td>\n",
              "      <td>0.181162</td>\n",
              "      <td>0.027414</td>\n",
              "      <td>0.106000</td>\n",
              "      <td>0.161900</td>\n",
              "      <td>0.179200</td>\n",
              "      <td>0.195700</td>\n",
              "      <td>0.30400</td>\n",
              "    </tr>\n",
              "    <tr>\n",
              "      <th>fractal_dimension_mean</th>\n",
              "      <td>569.0</td>\n",
              "      <td>0.062798</td>\n",
              "      <td>0.007060</td>\n",
              "      <td>0.049960</td>\n",
              "      <td>0.057700</td>\n",
              "      <td>0.061540</td>\n",
              "      <td>0.066120</td>\n",
              "      <td>0.09744</td>\n",
              "    </tr>\n",
              "    <tr>\n",
              "      <th>radius_se</th>\n",
              "      <td>569.0</td>\n",
              "      <td>0.405172</td>\n",
              "      <td>0.277313</td>\n",
              "      <td>0.111500</td>\n",
              "      <td>0.232400</td>\n",
              "      <td>0.324200</td>\n",
              "      <td>0.478900</td>\n",
              "      <td>2.87300</td>\n",
              "    </tr>\n",
              "    <tr>\n",
              "      <th>texture_se</th>\n",
              "      <td>569.0</td>\n",
              "      <td>1.216853</td>\n",
              "      <td>0.551648</td>\n",
              "      <td>0.360200</td>\n",
              "      <td>0.833900</td>\n",
              "      <td>1.108000</td>\n",
              "      <td>1.474000</td>\n",
              "      <td>4.88500</td>\n",
              "    </tr>\n",
              "    <tr>\n",
              "      <th>perimeter_se</th>\n",
              "      <td>569.0</td>\n",
              "      <td>2.866059</td>\n",
              "      <td>2.021855</td>\n",
              "      <td>0.757000</td>\n",
              "      <td>1.606000</td>\n",
              "      <td>2.287000</td>\n",
              "      <td>3.357000</td>\n",
              "      <td>21.98000</td>\n",
              "    </tr>\n",
              "    <tr>\n",
              "      <th>area_se</th>\n",
              "      <td>569.0</td>\n",
              "      <td>40.337079</td>\n",
              "      <td>45.491006</td>\n",
              "      <td>6.802000</td>\n",
              "      <td>17.850000</td>\n",
              "      <td>24.530000</td>\n",
              "      <td>45.190000</td>\n",
              "      <td>542.20000</td>\n",
              "    </tr>\n",
              "    <tr>\n",
              "      <th>smoothness_se</th>\n",
              "      <td>569.0</td>\n",
              "      <td>0.007041</td>\n",
              "      <td>0.003003</td>\n",
              "      <td>0.001713</td>\n",
              "      <td>0.005169</td>\n",
              "      <td>0.006380</td>\n",
              "      <td>0.008146</td>\n",
              "      <td>0.03113</td>\n",
              "    </tr>\n",
              "    <tr>\n",
              "      <th>compactness_se</th>\n",
              "      <td>569.0</td>\n",
              "      <td>0.025478</td>\n",
              "      <td>0.017908</td>\n",
              "      <td>0.002252</td>\n",
              "      <td>0.013080</td>\n",
              "      <td>0.020450</td>\n",
              "      <td>0.032450</td>\n",
              "      <td>0.13540</td>\n",
              "    </tr>\n",
              "    <tr>\n",
              "      <th>concavity_se</th>\n",
              "      <td>569.0</td>\n",
              "      <td>0.031894</td>\n",
              "      <td>0.030186</td>\n",
              "      <td>0.000000</td>\n",
              "      <td>0.015090</td>\n",
              "      <td>0.025890</td>\n",
              "      <td>0.042050</td>\n",
              "      <td>0.39600</td>\n",
              "    </tr>\n",
              "    <tr>\n",
              "      <th>concave points_se</th>\n",
              "      <td>569.0</td>\n",
              "      <td>0.011796</td>\n",
              "      <td>0.006170</td>\n",
              "      <td>0.000000</td>\n",
              "      <td>0.007638</td>\n",
              "      <td>0.010930</td>\n",
              "      <td>0.014710</td>\n",
              "      <td>0.05279</td>\n",
              "    </tr>\n",
              "    <tr>\n",
              "      <th>symmetry_se</th>\n",
              "      <td>569.0</td>\n",
              "      <td>0.020542</td>\n",
              "      <td>0.008266</td>\n",
              "      <td>0.007882</td>\n",
              "      <td>0.015160</td>\n",
              "      <td>0.018730</td>\n",
              "      <td>0.023480</td>\n",
              "      <td>0.07895</td>\n",
              "    </tr>\n",
              "    <tr>\n",
              "      <th>fractal_dimension_se</th>\n",
              "      <td>569.0</td>\n",
              "      <td>0.003795</td>\n",
              "      <td>0.002646</td>\n",
              "      <td>0.000895</td>\n",
              "      <td>0.002248</td>\n",
              "      <td>0.003187</td>\n",
              "      <td>0.004558</td>\n",
              "      <td>0.02984</td>\n",
              "    </tr>\n",
              "    <tr>\n",
              "      <th>radius_worst</th>\n",
              "      <td>569.0</td>\n",
              "      <td>16.269190</td>\n",
              "      <td>4.833242</td>\n",
              "      <td>7.930000</td>\n",
              "      <td>13.010000</td>\n",
              "      <td>14.970000</td>\n",
              "      <td>18.790000</td>\n",
              "      <td>36.04000</td>\n",
              "    </tr>\n",
              "    <tr>\n",
              "      <th>texture_worst</th>\n",
              "      <td>569.0</td>\n",
              "      <td>25.677223</td>\n",
              "      <td>6.146258</td>\n",
              "      <td>12.020000</td>\n",
              "      <td>21.080000</td>\n",
              "      <td>25.410000</td>\n",
              "      <td>29.720000</td>\n",
              "      <td>49.54000</td>\n",
              "    </tr>\n",
              "    <tr>\n",
              "      <th>perimeter_worst</th>\n",
              "      <td>569.0</td>\n",
              "      <td>107.261213</td>\n",
              "      <td>33.602542</td>\n",
              "      <td>50.410000</td>\n",
              "      <td>84.110000</td>\n",
              "      <td>97.660000</td>\n",
              "      <td>125.400000</td>\n",
              "      <td>251.20000</td>\n",
              "    </tr>\n",
              "    <tr>\n",
              "      <th>area_worst</th>\n",
              "      <td>569.0</td>\n",
              "      <td>880.583128</td>\n",
              "      <td>569.356993</td>\n",
              "      <td>185.200000</td>\n",
              "      <td>515.300000</td>\n",
              "      <td>686.500000</td>\n",
              "      <td>1084.000000</td>\n",
              "      <td>4254.00000</td>\n",
              "    </tr>\n",
              "    <tr>\n",
              "      <th>smoothness_worst</th>\n",
              "      <td>569.0</td>\n",
              "      <td>0.132369</td>\n",
              "      <td>0.022832</td>\n",
              "      <td>0.071170</td>\n",
              "      <td>0.116600</td>\n",
              "      <td>0.131300</td>\n",
              "      <td>0.146000</td>\n",
              "      <td>0.22260</td>\n",
              "    </tr>\n",
              "    <tr>\n",
              "      <th>compactness_worst</th>\n",
              "      <td>569.0</td>\n",
              "      <td>0.254265</td>\n",
              "      <td>0.157336</td>\n",
              "      <td>0.027290</td>\n",
              "      <td>0.147200</td>\n",
              "      <td>0.211900</td>\n",
              "      <td>0.339100</td>\n",
              "      <td>1.05800</td>\n",
              "    </tr>\n",
              "    <tr>\n",
              "      <th>concavity_worst</th>\n",
              "      <td>569.0</td>\n",
              "      <td>0.272188</td>\n",
              "      <td>0.208624</td>\n",
              "      <td>0.000000</td>\n",
              "      <td>0.114500</td>\n",
              "      <td>0.226700</td>\n",
              "      <td>0.382900</td>\n",
              "      <td>1.25200</td>\n",
              "    </tr>\n",
              "    <tr>\n",
              "      <th>concave points_worst</th>\n",
              "      <td>569.0</td>\n",
              "      <td>0.114606</td>\n",
              "      <td>0.065732</td>\n",
              "      <td>0.000000</td>\n",
              "      <td>0.064930</td>\n",
              "      <td>0.099930</td>\n",
              "      <td>0.161400</td>\n",
              "      <td>0.29100</td>\n",
              "    </tr>\n",
              "    <tr>\n",
              "      <th>symmetry_worst</th>\n",
              "      <td>569.0</td>\n",
              "      <td>0.290076</td>\n",
              "      <td>0.061867</td>\n",
              "      <td>0.156500</td>\n",
              "      <td>0.250400</td>\n",
              "      <td>0.282200</td>\n",
              "      <td>0.317900</td>\n",
              "      <td>0.66380</td>\n",
              "    </tr>\n",
              "    <tr>\n",
              "      <th>fractal_dimension_worst</th>\n",
              "      <td>569.0</td>\n",
              "      <td>0.083946</td>\n",
              "      <td>0.018061</td>\n",
              "      <td>0.055040</td>\n",
              "      <td>0.071460</td>\n",
              "      <td>0.080040</td>\n",
              "      <td>0.092080</td>\n",
              "      <td>0.20750</td>\n",
              "    </tr>\n",
              "  </tbody>\n",
              "</table>\n",
              "</div>"
            ],
            "text/plain": [
              "                         count        mean  ...          75%         max\n",
              "radius_mean              569.0   14.127292  ...    15.780000    28.11000\n",
              "texture_mean             569.0   19.289649  ...    21.800000    39.28000\n",
              "perimeter_mean           569.0   91.969033  ...   104.100000   188.50000\n",
              "area_mean                569.0  654.889104  ...   782.700000  2501.00000\n",
              "smoothness_mean          569.0    0.096360  ...     0.105300     0.16340\n",
              "compactness_mean         569.0    0.104341  ...     0.130400     0.34540\n",
              "concavity_mean           569.0    0.088799  ...     0.130700     0.42680\n",
              "concave points_mean      569.0    0.048919  ...     0.074000     0.20120\n",
              "symmetry_mean            569.0    0.181162  ...     0.195700     0.30400\n",
              "fractal_dimension_mean   569.0    0.062798  ...     0.066120     0.09744\n",
              "radius_se                569.0    0.405172  ...     0.478900     2.87300\n",
              "texture_se               569.0    1.216853  ...     1.474000     4.88500\n",
              "perimeter_se             569.0    2.866059  ...     3.357000    21.98000\n",
              "area_se                  569.0   40.337079  ...    45.190000   542.20000\n",
              "smoothness_se            569.0    0.007041  ...     0.008146     0.03113\n",
              "compactness_se           569.0    0.025478  ...     0.032450     0.13540\n",
              "concavity_se             569.0    0.031894  ...     0.042050     0.39600\n",
              "concave points_se        569.0    0.011796  ...     0.014710     0.05279\n",
              "symmetry_se              569.0    0.020542  ...     0.023480     0.07895\n",
              "fractal_dimension_se     569.0    0.003795  ...     0.004558     0.02984\n",
              "radius_worst             569.0   16.269190  ...    18.790000    36.04000\n",
              "texture_worst            569.0   25.677223  ...    29.720000    49.54000\n",
              "perimeter_worst          569.0  107.261213  ...   125.400000   251.20000\n",
              "area_worst               569.0  880.583128  ...  1084.000000  4254.00000\n",
              "smoothness_worst         569.0    0.132369  ...     0.146000     0.22260\n",
              "compactness_worst        569.0    0.254265  ...     0.339100     1.05800\n",
              "concavity_worst          569.0    0.272188  ...     0.382900     1.25200\n",
              "concave points_worst     569.0    0.114606  ...     0.161400     0.29100\n",
              "symmetry_worst           569.0    0.290076  ...     0.317900     0.66380\n",
              "fractal_dimension_worst  569.0    0.083946  ...     0.092080     0.20750\n",
              "\n",
              "[30 rows x 8 columns]"
            ]
          },
          "metadata": {
            "tags": []
          },
          "execution_count": 13
        }
      ]
    },
    {
      "cell_type": "code",
      "metadata": {
        "colab": {
          "base_uri": "https://localhost:8080/",
          "height": 279
        },
        "id": "xorkjmbiJBX6",
        "outputId": "b68f5a12-5c23-4337-f6c3-92646678d0ef"
      },
      "source": [
        "sns.countplot(x='diagnosis', data=df);"
      ],
      "execution_count": null,
      "outputs": [
        {
          "output_type": "display_data",
          "data": {
            "image/png": "[encoded data removed]",
            "text/plain": [
              "<Figure size 432x288 with 1 Axes>"
            ]
          },
          "metadata": {
            "tags": [],
            "needs_background": "light"
          }
        }
      ]
    },
    {
      "cell_type": "code",
      "metadata": {
        "id": "GYqPAwYEQkoz"
      },
      "source": [
        "df['diagnosis'] = df['diagnosis'].map({'B':0, 'M':1})"
      ],
      "execution_count": null,
      "outputs": []
    },
    {
      "cell_type": "code",
      "metadata": {
        "colab": {
          "base_uri": "https://localhost:8080/"
        },
        "id": "bVrsjw8kR-Nl",
        "outputId": "1f6fa440-2aa4-4f39-8df4-14f77f7d3e15"
      },
      "source": [
        "df['diagnosis'].value_counts()"
      ],
      "execution_count": null,
      "outputs": [
        {
          "output_type": "execute_result",
          "data": {
            "text/plain": [
              "0    357\n",
              "1    212\n",
              "Name: diagnosis, dtype: int64"
            ]
          },
          "metadata": {
            "tags": []
          },
          "execution_count": 28
        }
      ]
    },
    {
      "cell_type": "code",
      "metadata": {
        "colab": {
          "base_uri": "https://localhost:8080/",
          "height": 980
        },
        "id": "ThI_cr6lJZK6",
        "outputId": "a34d9583-8f7c-43b2-80bd-05bd00ae5ea0"
      },
      "source": [
        "plt.figure(figsize=(15,15))\n",
        "sns.heatmap(df.corr());"
      ],
      "execution_count": null,
      "outputs": [
        {
          "output_type": "display_data",
          "data": {
            "image/png": "[encoded data removed]",
            "text/plain": [
              "<Figure size 1080x1080 with 2 Axes>"
            ]
          },
          "metadata": {
            "tags": [],
            "needs_background": "light"
          }
        }
      ]
    },
    {
      "cell_type": "code",
      "metadata": {
        "id": "crURwAF-PglN"
      },
      "source": [
        "X = df.drop('diagnosis',axis=1).values\n",
        "y = df['diagnosis'].values"
      ],
      "execution_count": null,
      "outputs": []
    },
    {
      "cell_type": "markdown",
      "metadata": {
        "id": "06onX7Atw9U4"
      },
      "source": [
        "### Scaling Data"
      ]
    },
    {
      "cell_type": "code",
      "metadata": {
        "id": "PE7t4ycnTcO0"
      },
      "source": [
        "from sklearn.model_selection import train_test_split"
      ],
      "execution_count": null,
      "outputs": []
    },
    {
      "cell_type": "code",
      "metadata": {
        "id": "MFpMLhKbTfux"
      },
      "source": [
        "X_train, X_test, y_train, y_test = train_test_split(X, y, test_size=0.25, random_state=101)"
      ],
      "execution_count": null,
      "outputs": []
    },
    {
      "cell_type": "code",
      "metadata": {
        "id": "P-rQ58ehTvvQ"
      },
      "source": [
        "from sklearn.preprocessing import MinMaxScaler"
      ],
      "execution_count": null,
      "outputs": []
    },
    {
      "cell_type": "code",
      "metadata": {
        "id": "-YrnkzNgT0pP"
      },
      "source": [
        "scaler = MinMaxScaler()"
      ],
      "execution_count": null,
      "outputs": []
    },
    {
      "cell_type": "code",
      "metadata": {
        "id": "Eve2LhDeT2mG"
      },
      "source": [
        "X_train = scaler.fit_transform(X_train)"
      ],
      "execution_count": null,
      "outputs": []
    },
    {
      "cell_type": "code",
      "metadata": {
        "id": "tzYnMjANT47j"
      },
      "source": [
        "X_test = scaler.transform(X_test)"
      ],
      "execution_count": null,
      "outputs": []
    },
    {
      "cell_type": "markdown",
      "metadata": {
        "id": "qSVBCq9TxFhA"
      },
      "source": [
        "### Creating Model"
      ]
    },
    {
      "cell_type": "code",
      "metadata": {
        "id": "tgApN_bRUBxA"
      },
      "source": [
        "from tensorflow.keras.models import Sequential\n",
        "from tensorflow.keras.layers import Dense"
      ],
      "execution_count": null,
      "outputs": []
    },
    {
      "cell_type": "code",
      "metadata": {
        "colab": {
          "base_uri": "https://localhost:8080/"
        },
        "id": "veB6F_slUZNv",
        "outputId": "c93c6c56-c9bd-4aa4-e4ac-7d4a5877087d"
      },
      "source": [
        "X_train.shape"
      ],
      "execution_count": null,
      "outputs": [
        {
          "output_type": "execute_result",
          "data": {
            "text/plain": [
              "(426, 30)"
            ]
          },
          "metadata": {
            "tags": []
          },
          "execution_count": 40
        }
      ]
    },
    {
      "cell_type": "code",
      "metadata": {
        "id": "KdBFvPCLUa0z"
      },
      "source": [
        "model = Sequential()\n",
        "\n",
        "model.add(Dense(30,activation='relu'))\n",
        "model.add(Dense(15,activation='relu'))\n",
        "\n",
        "model.add(Dense(1,activation='sigmoid'))\n",
        "\n",
        "model.compile(loss='binary_crossentropy', optimizer='adam')"
      ],
      "execution_count": null,
      "outputs": []
    },
    {
      "cell_type": "code",
      "metadata": {
        "colab": {
          "base_uri": "https://localhost:8080/"
        },
        "id": "UYPyTUzjUwwx",
        "outputId": "09703a12-e165-4b14-952c-79bbf29f79c8"
      },
      "source": [
        "model.fit(x=X_train, y=y_train, validation_data=(X_test,y_test), epochs=100)"
      ],
      "execution_count": null,
      "outputs": [
        {
          "output_type": "stream",
          "text": [
            "Epoch 1/100\n",
            "14/14 [==============================] - 1s 29ms/step - loss: 0.6639 - val_loss: 0.6393\n",
            "Epoch 2/100\n",
            "14/14 [==============================] - 0s 4ms/step - loss: 0.6228 - val_loss: 0.6027\n",
            "Epoch 3/100\n",
            "14/14 [==============================] - 0s 4ms/step - loss: 0.5861 - val_loss: 0.5669\n",
            "Epoch 4/100\n",
            "14/14 [==============================] - 0s 4ms/step - loss: 0.5424 - val_loss: 0.5217\n",
            "Epoch 5/100\n",
            "14/14 [==============================] - 0s 4ms/step - loss: 0.5017 - val_loss: 0.4697\n",
            "Epoch 6/100\n",
            "14/14 [==============================] - 0s 5ms/step - loss: 0.4661 - val_loss: 0.4155\n",
            "Epoch 7/100\n",
            "14/14 [==============================] - 0s 4ms/step - loss: 0.3968 - val_loss: 0.3619\n",
            "Epoch 8/100\n",
            "14/14 [==============================] - 0s 4ms/step - loss: 0.3567 - val_loss: 0.3156\n",
            "Epoch 9/100\n",
            "14/14 [==============================] - 0s 5ms/step - loss: 0.3216 - val_loss: 0.2811\n",
            "Epoch 10/100\n",
            "14/14 [==============================] - 0s 4ms/step - loss: 0.2841 - val_loss: 0.2484\n",
            "Epoch 11/100\n",
            "14/14 [==============================] - 0s 4ms/step - loss: 0.2480 - val_loss: 0.2236\n",
            "Epoch 12/100\n",
            "14/14 [==============================] - 0s 4ms/step - loss: 0.2416 - val_loss: 0.2051\n",
            "Epoch 13/100\n",
            "14/14 [==============================] - 0s 4ms/step - loss: 0.2170 - val_loss: 0.1924\n",
            "Epoch 14/100\n",
            "14/14 [==============================] - 0s 4ms/step - loss: 0.2123 - val_loss: 0.1783\n",
            "Epoch 15/100\n",
            "14/14 [==============================] - 0s 4ms/step - loss: 0.1805 - val_loss: 0.1726\n",
            "Epoch 16/100\n",
            "14/14 [==============================] - 0s 5ms/step - loss: 0.1821 - val_loss: 0.1618\n",
            "Epoch 17/100\n",
            "14/14 [==============================] - 0s 4ms/step - loss: 0.1655 - val_loss: 0.1554\n",
            "Epoch 18/100\n",
            "14/14 [==============================] - 0s 4ms/step - loss: 0.1480 - val_loss: 0.1457\n",
            "Epoch 19/100\n",
            "14/14 [==============================] - 0s 5ms/step - loss: 0.1388 - val_loss: 0.1428\n",
            "Epoch 20/100\n",
            "14/14 [==============================] - 0s 5ms/step - loss: 0.1397 - val_loss: 0.1385\n",
            "Epoch 21/100\n",
            "14/14 [==============================] - 0s 4ms/step - loss: 0.1200 - val_loss: 0.1331\n",
            "Epoch 22/100\n",
            "14/14 [==============================] - 0s 4ms/step - loss: 0.1623 - val_loss: 0.1267\n",
            "Epoch 23/100\n",
            "14/14 [==============================] - 0s 4ms/step - loss: 0.1330 - val_loss: 0.1300\n",
            "Epoch 24/100\n",
            "14/14 [==============================] - 0s 4ms/step - loss: 0.1192 - val_loss: 0.1228\n",
            "Epoch 25/100\n",
            "14/14 [==============================] - 0s 4ms/step - loss: 0.1085 - val_loss: 0.1239\n",
            "Epoch 26/100\n",
            "14/14 [==============================] - 0s 4ms/step - loss: 0.1319 - val_loss: 0.1167\n",
            "Epoch 27/100\n",
            "14/14 [==============================] - 0s 4ms/step - loss: 0.1044 - val_loss: 0.1216\n",
            "Epoch 28/100\n",
            "14/14 [==============================] - 0s 4ms/step - loss: 0.0923 - val_loss: 0.1149\n",
            "Epoch 29/100\n",
            "14/14 [==============================] - 0s 4ms/step - loss: 0.0978 - val_loss: 0.1134\n",
            "Epoch 30/100\n",
            "14/14 [==============================] - 0s 5ms/step - loss: 0.0879 - val_loss: 0.1148\n",
            "Epoch 31/100\n",
            "14/14 [==============================] - 0s 5ms/step - loss: 0.0983 - val_loss: 0.1102\n",
            "Epoch 32/100\n",
            "14/14 [==============================] - 0s 4ms/step - loss: 0.0911 - val_loss: 0.1121\n",
            "Epoch 33/100\n",
            "14/14 [==============================] - 0s 4ms/step - loss: 0.0922 - val_loss: 0.1100\n",
            "Epoch 34/100\n",
            "14/14 [==============================] - 0s 4ms/step - loss: 0.0686 - val_loss: 0.1108\n",
            "Epoch 35/100\n",
            "14/14 [==============================] - 0s 4ms/step - loss: 0.0912 - val_loss: 0.1096\n",
            "Epoch 36/100\n",
            "14/14 [==============================] - 0s 5ms/step - loss: 0.0836 - val_loss: 0.1063\n",
            "Epoch 37/100\n",
            "14/14 [==============================] - 0s 5ms/step - loss: 0.0746 - val_loss: 0.1078\n",
            "Epoch 38/100\n",
            "14/14 [==============================] - 0s 5ms/step - loss: 0.0679 - val_loss: 0.1077\n",
            "Epoch 39/100\n",
            "14/14 [==============================] - 0s 5ms/step - loss: 0.0785 - val_loss: 0.1046\n",
            "Epoch 40/100\n",
            "14/14 [==============================] - 0s 4ms/step - loss: 0.0783 - val_loss: 0.1080\n",
            "Epoch 41/100\n",
            "14/14 [==============================] - 0s 5ms/step - loss: 0.0863 - val_loss: 0.1044\n",
            "Epoch 42/100\n",
            "14/14 [==============================] - 0s 5ms/step - loss: 0.0689 - val_loss: 0.1076\n",
            "Epoch 43/100\n",
            "14/14 [==============================] - 0s 5ms/step - loss: 0.0873 - val_loss: 0.1076\n",
            "Epoch 44/100\n",
            "14/14 [==============================] - 0s 4ms/step - loss: 0.0645 - val_loss: 0.1098\n",
            "Epoch 45/100\n",
            "14/14 [==============================] - 0s 4ms/step - loss: 0.0624 - val_loss: 0.1070\n",
            "Epoch 46/100\n",
            "14/14 [==============================] - 0s 5ms/step - loss: 0.0598 - val_loss: 0.1103\n",
            "Epoch 47/100\n",
            "14/14 [==============================] - 0s 5ms/step - loss: 0.0795 - val_loss: 0.1049\n",
            "Epoch 48/100\n",
            "14/14 [==============================] - 0s 5ms/step - loss: 0.0675 - val_loss: 0.1079\n",
            "Epoch 49/100\n",
            "14/14 [==============================] - 0s 4ms/step - loss: 0.0610 - val_loss: 0.1120\n",
            "Epoch 50/100\n",
            "14/14 [==============================] - 0s 5ms/step - loss: 0.0608 - val_loss: 0.1087\n",
            "Epoch 51/100\n",
            "14/14 [==============================] - 0s 4ms/step - loss: 0.0565 - val_loss: 0.1070\n",
            "Epoch 52/100\n",
            "14/14 [==============================] - 0s 5ms/step - loss: 0.0548 - val_loss: 0.1076\n",
            "Epoch 53/100\n",
            "14/14 [==============================] - 0s 5ms/step - loss: 0.0748 - val_loss: 0.1082\n",
            "Epoch 54/100\n",
            "14/14 [==============================] - 0s 4ms/step - loss: 0.0638 - val_loss: 0.1103\n",
            "Epoch 55/100\n",
            "14/14 [==============================] - 0s 4ms/step - loss: 0.0582 - val_loss: 0.1109\n",
            "Epoch 56/100\n",
            "14/14 [==============================] - 0s 4ms/step - loss: 0.0526 - val_loss: 0.1077\n",
            "Epoch 57/100\n",
            "14/14 [==============================] - 0s 5ms/step - loss: 0.0715 - val_loss: 0.1118\n",
            "Epoch 58/100\n",
            "14/14 [==============================] - 0s 4ms/step - loss: 0.0598 - val_loss: 0.1130\n",
            "Epoch 59/100\n",
            "14/14 [==============================] - 0s 4ms/step - loss: 0.0647 - val_loss: 0.1084\n",
            "Epoch 60/100\n",
            "14/14 [==============================] - 0s 4ms/step - loss: 0.0545 - val_loss: 0.1173\n",
            "Epoch 61/100\n",
            "14/14 [==============================] - 0s 5ms/step - loss: 0.0625 - val_loss: 0.1076\n",
            "Epoch 62/100\n",
            "14/14 [==============================] - 0s 4ms/step - loss: 0.0562 - val_loss: 0.1177\n",
            "Epoch 63/100\n",
            "14/14 [==============================] - 0s 5ms/step - loss: 0.0566 - val_loss: 0.1087\n",
            "Epoch 64/100\n",
            "14/14 [==============================] - 0s 4ms/step - loss: 0.0690 - val_loss: 0.1212\n",
            "Epoch 65/100\n",
            "14/14 [==============================] - 0s 4ms/step - loss: 0.0581 - val_loss: 0.1096\n",
            "Epoch 66/100\n",
            "14/14 [==============================] - 0s 4ms/step - loss: 0.0548 - val_loss: 0.1136\n",
            "Epoch 67/100\n",
            "14/14 [==============================] - 0s 5ms/step - loss: 0.0505 - val_loss: 0.1143\n",
            "Epoch 68/100\n",
            "14/14 [==============================] - 0s 5ms/step - loss: 0.0535 - val_loss: 0.1135\n",
            "Epoch 69/100\n",
            "14/14 [==============================] - 0s 5ms/step - loss: 0.0608 - val_loss: 0.1160\n",
            "Epoch 70/100\n",
            "14/14 [==============================] - 0s 5ms/step - loss: 0.0564 - val_loss: 0.1159\n",
            "Epoch 71/100\n",
            "14/14 [==============================] - 0s 5ms/step - loss: 0.0446 - val_loss: 0.1166\n",
            "Epoch 72/100\n",
            "14/14 [==============================] - 0s 5ms/step - loss: 0.0568 - val_loss: 0.1152\n",
            "Epoch 73/100\n",
            "14/14 [==============================] - 0s 5ms/step - loss: 0.0552 - val_loss: 0.1160\n",
            "Epoch 74/100\n",
            "14/14 [==============================] - 0s 4ms/step - loss: 0.0593 - val_loss: 0.1180\n",
            "Epoch 75/100\n",
            "14/14 [==============================] - 0s 4ms/step - loss: 0.0660 - val_loss: 0.1120\n",
            "Epoch 76/100\n",
            "14/14 [==============================] - 0s 5ms/step - loss: 0.0561 - val_loss: 0.1195\n",
            "Epoch 77/100\n",
            "14/14 [==============================] - 0s 5ms/step - loss: 0.0532 - val_loss: 0.1163\n",
            "Epoch 78/100\n",
            "14/14 [==============================] - 0s 5ms/step - loss: 0.0522 - val_loss: 0.1132\n",
            "Epoch 79/100\n",
            "14/14 [==============================] - 0s 5ms/step - loss: 0.0527 - val_loss: 0.1126\n",
            "Epoch 80/100\n",
            "14/14 [==============================] - 0s 4ms/step - loss: 0.0491 - val_loss: 0.1202\n",
            "Epoch 81/100\n",
            "14/14 [==============================] - 0s 5ms/step - loss: 0.0553 - val_loss: 0.1132\n",
            "Epoch 82/100\n",
            "14/14 [==============================] - 0s 5ms/step - loss: 0.0622 - val_loss: 0.1124\n",
            "Epoch 83/100\n",
            "14/14 [==============================] - 0s 4ms/step - loss: 0.0360 - val_loss: 0.1253\n",
            "Epoch 84/100\n",
            "14/14 [==============================] - 0s 4ms/step - loss: 0.0543 - val_loss: 0.1145\n",
            "Epoch 85/100\n",
            "14/14 [==============================] - 0s 5ms/step - loss: 0.0462 - val_loss: 0.1202\n",
            "Epoch 86/100\n",
            "14/14 [==============================] - 0s 4ms/step - loss: 0.0609 - val_loss: 0.1160\n",
            "Epoch 87/100\n",
            "14/14 [==============================] - 0s 5ms/step - loss: 0.0541 - val_loss: 0.1213\n",
            "Epoch 88/100\n",
            "14/14 [==============================] - 0s 5ms/step - loss: 0.0453 - val_loss: 0.1170\n",
            "Epoch 89/100\n",
            "14/14 [==============================] - 0s 5ms/step - loss: 0.0507 - val_loss: 0.1193\n",
            "Epoch 90/100\n",
            "14/14 [==============================] - 0s 5ms/step - loss: 0.0615 - val_loss: 0.1172\n",
            "Epoch 91/100\n",
            "14/14 [==============================] - 0s 5ms/step - loss: 0.0509 - val_loss: 0.1173\n",
            "Epoch 92/100\n",
            "14/14 [==============================] - 0s 4ms/step - loss: 0.0511 - val_loss: 0.1261\n",
            "Epoch 93/100\n",
            "14/14 [==============================] - 0s 4ms/step - loss: 0.0456 - val_loss: 0.1165\n",
            "Epoch 94/100\n",
            "14/14 [==============================] - 0s 5ms/step - loss: 0.0420 - val_loss: 0.1242\n",
            "Epoch 95/100\n",
            "14/14 [==============================] - 0s 5ms/step - loss: 0.0428 - val_loss: 0.1235\n",
            "Epoch 96/100\n",
            "14/14 [==============================] - 0s 5ms/step - loss: 0.0572 - val_loss: 0.1180\n",
            "Epoch 97/100\n",
            "14/14 [==============================] - 0s 5ms/step - loss: 0.0656 - val_loss: 0.1157\n",
            "Epoch 98/100\n",
            "14/14 [==============================] - 0s 5ms/step - loss: 0.0449 - val_loss: 0.1273\n",
            "Epoch 99/100\n",
            "14/14 [==============================] - 0s 5ms/step - loss: 0.0407 - val_loss: 0.1225\n",
            "Epoch 100/100\n",
            "14/14 [==============================] - 0s 5ms/step - loss: 0.0581 - val_loss: 0.1221\n"
          ],
          "name": "stdout"
        },
        {
          "output_type": "execute_result",
          "data": {
            "text/plain": [
              "<tensorflow.python.keras.callbacks.History at 0x7f6263d2cf10>"
            ]
          },
          "metadata": {
            "tags": []
          },
          "execution_count": 42
        }
      ]
    },
    {
      "cell_type": "markdown",
      "metadata": {
        "id": "ZXUw52rwxKr0"
      },
      "source": [
        "### Evaluating Loss"
      ]
    },
    {
      "cell_type": "code",
      "metadata": {
        "id": "4j33a1Y9U9jT"
      },
      "source": [
        "losses = pd.DataFrame(model.history.history)"
      ],
      "execution_count": null,
      "outputs": []
    },
    {
      "cell_type": "code",
      "metadata": {
        "colab": {
          "base_uri": "https://localhost:8080/",
          "height": 265
        },
        "id": "Cr5VWPKeVJhN",
        "outputId": "b2972b1a-2e24-4e89-88dd-1512b69f98d2"
      },
      "source": [
        "losses.plot();"
      ],
      "execution_count": null,
      "outputs": [
        {
          "output_type": "display_data",
          "data": {
            "image/png": "[encoded data removed]",
            "text/plain": [
              "<Figure size 432x288 with 1 Axes>"
            ]
          },
          "metadata": {
            "tags": [],
            "needs_background": "light"
          }
        }
      ]
    },
    {
      "cell_type": "markdown",
      "metadata": {
        "id": "-2CPVgZ1xNP7"
      },
      "source": [
        "### Implementing Early Stopping"
      ]
    },
    {
      "cell_type": "code",
      "metadata": {
        "id": "h0-1wghoVLaD"
      },
      "source": [
        "from tensorflow.keras.callbacks import EarlyStopping"
      ],
      "execution_count": null,
      "outputs": []
    },
    {
      "cell_type": "code",
      "metadata": {
        "id": "s73WjF42rKsw"
      },
      "source": [
        "early_stop = EarlyStopping(monitor='val_loss', mode='min', verbose=1, patience=25)"
      ],
      "execution_count": null,
      "outputs": []
    },
    {
      "cell_type": "code",
      "metadata": {
        "id": "8VLPOBMOrsMj"
      },
      "source": [
        "model = Sequential()\n",
        "\n",
        "model.add(Dense(30,activation='relu'))\n",
        "model.add(Dense(15,activation='relu'))\n",
        "\n",
        "model.add(Dense(1,activation='sigmoid'))\n",
        "\n",
        "model.compile(loss='binary_crossentropy', optimizer='adam')"
      ],
      "execution_count": null,
      "outputs": []
    },
    {
      "cell_type": "code",
      "metadata": {
        "colab": {
          "base_uri": "https://localhost:8080/"
        },
        "id": "n4Oavfq8r00q",
        "outputId": "ec5e9b83-667a-4bae-b49c-292457d3ed18"
      },
      "source": [
        "model.fit(x=X_train, y=y_train, validation_data=(X_test,y_test), epochs=500, callbacks=[early_stop])"
      ],
      "execution_count": null,
      "outputs": [
        {
          "output_type": "stream",
          "text": [
            "Epoch 1/500\n",
            "14/14 [==============================] - 1s 13ms/step - loss: 0.6918 - val_loss: 0.6546\n",
            "Epoch 2/500\n",
            "14/14 [==============================] - 0s 4ms/step - loss: 0.6513 - val_loss: 0.6238\n",
            "Epoch 3/500\n",
            "14/14 [==============================] - 0s 4ms/step - loss: 0.6194 - val_loss: 0.5938\n",
            "Epoch 4/500\n",
            "14/14 [==============================] - 0s 4ms/step - loss: 0.5869 - val_loss: 0.5598\n",
            "Epoch 5/500\n",
            "14/14 [==============================] - 0s 5ms/step - loss: 0.5513 - val_loss: 0.5205\n",
            "Epoch 6/500\n",
            "14/14 [==============================] - 0s 5ms/step - loss: 0.5149 - val_loss: 0.4763\n",
            "Epoch 7/500\n",
            "14/14 [==============================] - 0s 4ms/step - loss: 0.4668 - val_loss: 0.4155\n",
            "Epoch 8/500\n",
            "14/14 [==============================] - 0s 5ms/step - loss: 0.4092 - val_loss: 0.3533\n",
            "Epoch 9/500\n",
            "14/14 [==============================] - 0s 5ms/step - loss: 0.3328 - val_loss: 0.3145\n",
            "Epoch 10/500\n",
            "14/14 [==============================] - 0s 5ms/step - loss: 0.3238 - val_loss: 0.2741\n",
            "Epoch 11/500\n",
            "14/14 [==============================] - 0s 4ms/step - loss: 0.2821 - val_loss: 0.2475\n",
            "Epoch 12/500\n",
            "14/14 [==============================] - 0s 4ms/step - loss: 0.2669 - val_loss: 0.2247\n",
            "Epoch 13/500\n",
            "14/14 [==============================] - 0s 4ms/step - loss: 0.2358 - val_loss: 0.2065\n",
            "Epoch 14/500\n",
            "14/14 [==============================] - 0s 5ms/step - loss: 0.2321 - val_loss: 0.1916\n",
            "Epoch 15/500\n",
            "14/14 [==============================] - 0s 5ms/step - loss: 0.2039 - val_loss: 0.1831\n",
            "Epoch 16/500\n",
            "14/14 [==============================] - 0s 5ms/step - loss: 0.2015 - val_loss: 0.1716\n",
            "Epoch 17/500\n",
            "14/14 [==============================] - 0s 4ms/step - loss: 0.2019 - val_loss: 0.1631\n",
            "Epoch 18/500\n",
            "14/14 [==============================] - 0s 4ms/step - loss: 0.1781 - val_loss: 0.1608\n",
            "Epoch 19/500\n",
            "14/14 [==============================] - 0s 4ms/step - loss: 0.1627 - val_loss: 0.1497\n",
            "Epoch 20/500\n",
            "14/14 [==============================] - 0s 4ms/step - loss: 0.1570 - val_loss: 0.1462\n",
            "Epoch 21/500\n",
            "14/14 [==============================] - 0s 5ms/step - loss: 0.1526 - val_loss: 0.1414\n",
            "Epoch 22/500\n",
            "14/14 [==============================] - 0s 5ms/step - loss: 0.1405 - val_loss: 0.1382\n",
            "Epoch 23/500\n",
            "14/14 [==============================] - 0s 5ms/step - loss: 0.1245 - val_loss: 0.1315\n",
            "Epoch 24/500\n",
            "14/14 [==============================] - 0s 5ms/step - loss: 0.1129 - val_loss: 0.1316\n",
            "Epoch 25/500\n",
            "14/14 [==============================] - 0s 5ms/step - loss: 0.1196 - val_loss: 0.1267\n",
            "Epoch 26/500\n",
            "14/14 [==============================] - 0s 5ms/step - loss: 0.1143 - val_loss: 0.1231\n",
            "Epoch 27/500\n",
            "14/14 [==============================] - 0s 4ms/step - loss: 0.1053 - val_loss: 0.1280\n",
            "Epoch 28/500\n",
            "14/14 [==============================] - 0s 4ms/step - loss: 0.1233 - val_loss: 0.1173\n",
            "Epoch 29/500\n",
            "14/14 [==============================] - 0s 5ms/step - loss: 0.1023 - val_loss: 0.1207\n",
            "Epoch 30/500\n",
            "14/14 [==============================] - 0s 4ms/step - loss: 0.0983 - val_loss: 0.1160\n",
            "Epoch 31/500\n",
            "14/14 [==============================] - 0s 4ms/step - loss: 0.0966 - val_loss: 0.1135\n",
            "Epoch 32/500\n",
            "14/14 [==============================] - 0s 5ms/step - loss: 0.1020 - val_loss: 0.1124\n",
            "Epoch 33/500\n",
            "14/14 [==============================] - 0s 6ms/step - loss: 0.0882 - val_loss: 0.1178\n",
            "Epoch 34/500\n",
            "14/14 [==============================] - 0s 5ms/step - loss: 0.0828 - val_loss: 0.1097\n",
            "Epoch 35/500\n",
            "14/14 [==============================] - 0s 5ms/step - loss: 0.0922 - val_loss: 0.1155\n",
            "Epoch 36/500\n",
            "14/14 [==============================] - 0s 5ms/step - loss: 0.0841 - val_loss: 0.1076\n",
            "Epoch 37/500\n",
            "14/14 [==============================] - 0s 5ms/step - loss: 0.0990 - val_loss: 0.1081\n",
            "Epoch 38/500\n",
            "14/14 [==============================] - 0s 4ms/step - loss: 0.0746 - val_loss: 0.1127\n",
            "Epoch 39/500\n",
            "14/14 [==============================] - 0s 4ms/step - loss: 0.0744 - val_loss: 0.1077\n",
            "Epoch 40/500\n",
            "14/14 [==============================] - 0s 4ms/step - loss: 0.0930 - val_loss: 0.1121\n",
            "Epoch 41/500\n",
            "14/14 [==============================] - 0s 5ms/step - loss: 0.0825 - val_loss: 0.1096\n",
            "Epoch 42/500\n",
            "14/14 [==============================] - 0s 5ms/step - loss: 0.0709 - val_loss: 0.1102\n",
            "Epoch 43/500\n",
            "14/14 [==============================] - 0s 5ms/step - loss: 0.0700 - val_loss: 0.1061\n",
            "Epoch 44/500\n",
            "14/14 [==============================] - 0s 5ms/step - loss: 0.0680 - val_loss: 0.1088\n",
            "Epoch 45/500\n",
            "14/14 [==============================] - 0s 5ms/step - loss: 0.0667 - val_loss: 0.1067\n",
            "Epoch 46/500\n",
            "14/14 [==============================] - 0s 5ms/step - loss: 0.0707 - val_loss: 0.1125\n",
            "Epoch 47/500\n",
            "14/14 [==============================] - 0s 5ms/step - loss: 0.0785 - val_loss: 0.1081\n",
            "Epoch 48/500\n",
            "14/14 [==============================] - 0s 4ms/step - loss: 0.0619 - val_loss: 0.1080\n",
            "Epoch 49/500\n",
            "14/14 [==============================] - 0s 5ms/step - loss: 0.0649 - val_loss: 0.1189\n",
            "Epoch 50/500\n",
            "14/14 [==============================] - 0s 5ms/step - loss: 0.0655 - val_loss: 0.1102\n",
            "Epoch 51/500\n",
            "14/14 [==============================] - 0s 5ms/step - loss: 0.0540 - val_loss: 0.1164\n",
            "Epoch 52/500\n",
            "14/14 [==============================] - 0s 5ms/step - loss: 0.0722 - val_loss: 0.1083\n",
            "Epoch 53/500\n",
            "14/14 [==============================] - 0s 5ms/step - loss: 0.0651 - val_loss: 0.1097\n",
            "Epoch 54/500\n",
            "14/14 [==============================] - 0s 5ms/step - loss: 0.0715 - val_loss: 0.1088\n",
            "Epoch 55/500\n",
            "14/14 [==============================] - 0s 5ms/step - loss: 0.0634 - val_loss: 0.1175\n",
            "Epoch 56/500\n",
            "14/14 [==============================] - 0s 5ms/step - loss: 0.0693 - val_loss: 0.1085\n",
            "Epoch 57/500\n",
            "14/14 [==============================] - 0s 5ms/step - loss: 0.0479 - val_loss: 0.1124\n",
            "Epoch 58/500\n",
            "14/14 [==============================] - 0s 5ms/step - loss: 0.0517 - val_loss: 0.1117\n",
            "Epoch 59/500\n",
            "14/14 [==============================] - 0s 4ms/step - loss: 0.0849 - val_loss: 0.1062\n",
            "Epoch 60/500\n",
            "14/14 [==============================] - 0s 5ms/step - loss: 0.0646 - val_loss: 0.1177\n",
            "Epoch 61/500\n",
            "14/14 [==============================] - 0s 5ms/step - loss: 0.0595 - val_loss: 0.1094\n",
            "Epoch 62/500\n",
            "14/14 [==============================] - 0s 5ms/step - loss: 0.0585 - val_loss: 0.1099\n",
            "Epoch 63/500\n",
            "14/14 [==============================] - 0s 5ms/step - loss: 0.0610 - val_loss: 0.1103\n",
            "Epoch 64/500\n",
            "14/14 [==============================] - 0s 5ms/step - loss: 0.0445 - val_loss: 0.1135\n",
            "Epoch 65/500\n",
            "14/14 [==============================] - 0s 5ms/step - loss: 0.0545 - val_loss: 0.1151\n",
            "Epoch 66/500\n",
            "14/14 [==============================] - 0s 5ms/step - loss: 0.0541 - val_loss: 0.1151\n",
            "Epoch 67/500\n",
            "14/14 [==============================] - 0s 5ms/step - loss: 0.0587 - val_loss: 0.1192\n",
            "Epoch 68/500\n",
            "14/14 [==============================] - 0s 5ms/step - loss: 0.0587 - val_loss: 0.1137\n",
            "Epoch 00068: early stopping\n"
          ],
          "name": "stdout"
        },
        {
          "output_type": "execute_result",
          "data": {
            "text/plain": [
              "<tensorflow.python.keras.callbacks.History at 0x7f6263d131d0>"
            ]
          },
          "metadata": {
            "tags": []
          },
          "execution_count": 49
        }
      ]
    },
    {
      "cell_type": "code",
      "metadata": {
        "colab": {
          "base_uri": "https://localhost:8080/",
          "height": 282
        },
        "id": "wch5feP5r_Ok",
        "outputId": "873494c0-36b5-43b1-ee31-fa98d6f9fa7b"
      },
      "source": [
        "losses_estop = pd.DataFrame(model.history.history)\n",
        "losses_estop.plot()"
      ],
      "execution_count": null,
      "outputs": [
        {
          "output_type": "execute_result",
          "data": {
            "text/plain": [
              "<matplotlib.axes._subplots.AxesSubplot at 0x7f6260358710>"
            ]
          },
          "metadata": {
            "tags": []
          },
          "execution_count": 50
        },
        {
          "output_type": "display_data",
          "data": {
            "image/png": "[encoded data removed]",
            "text/plain": [
              "<Figure size 432x288 with 1 Axes>"
            ]
          },
          "metadata": {
            "tags": [],
            "needs_background": "light"
          }
        }
      ]
    },
    {
      "cell_type": "markdown",
      "metadata": {
        "id": "oiouZjgTxRKH"
      },
      "source": [
        "### Implementing Dropout"
      ]
    },
    {
      "cell_type": "code",
      "metadata": {
        "id": "6JmWd251uFIt"
      },
      "source": [
        "from tensorflow.keras.layers import Dropout"
      ],
      "execution_count": null,
      "outputs": []
    },
    {
      "cell_type": "code",
      "metadata": {
        "id": "Dytf5PWlvDbk"
      },
      "source": [
        "model = Sequential()\n",
        "\n",
        "model.add(Dense(30,activation='relu'))\n",
        "model.add(Dropout(0.5))\n",
        "model.add(Dense(15,activation='sigmoid'))\n",
        "model.add(Dropout(0.5))\n",
        "\n",
        "model.add(Dense(1,activation='sigmoid'))\n",
        "\n",
        "model.compile(loss='binary_crossentropy', optimizer='adam')"
      ],
      "execution_count": null,
      "outputs": []
    },
    {
      "cell_type": "code",
      "metadata": {
        "colab": {
          "base_uri": "https://localhost:8080/"
        },
        "id": "hogYDvktvWdY",
        "outputId": "a7496936-fb4d-420b-9da9-a1ddf9f5c935"
      },
      "source": [
        "model.fit(x=X_train, y=y_train, validation_data=(X_test,y_test), epochs=500, callbacks=[early_stop])"
      ],
      "execution_count": null,
      "outputs": [
        {
          "output_type": "stream",
          "text": [
            "Epoch 1/500\n",
            "14/14 [==============================] - 1s 14ms/step - loss: 0.7081 - val_loss: 0.6644\n",
            "Epoch 2/500\n",
            "14/14 [==============================] - 0s 4ms/step - loss: 0.6567 - val_loss: 0.6514\n",
            "Epoch 3/500\n",
            "14/14 [==============================] - 0s 5ms/step - loss: 0.6793 - val_loss: 0.6398\n",
            "Epoch 4/500\n",
            "14/14 [==============================] - 0s 4ms/step - loss: 0.6663 - val_loss: 0.6273\n",
            "Epoch 5/500\n",
            "14/14 [==============================] - 0s 5ms/step - loss: 0.6402 - val_loss: 0.6142\n",
            "Epoch 6/500\n",
            "14/14 [==============================] - 0s 4ms/step - loss: 0.6547 - val_loss: 0.5994\n",
            "Epoch 7/500\n",
            "14/14 [==============================] - 0s 5ms/step - loss: 0.6399 - val_loss: 0.5862\n",
            "Epoch 8/500\n",
            "14/14 [==============================] - 0s 5ms/step - loss: 0.6112 - val_loss: 0.5710\n",
            "Epoch 9/500\n",
            "14/14 [==============================] - 0s 5ms/step - loss: 0.6116 - val_loss: 0.5558\n",
            "Epoch 10/500\n",
            "14/14 [==============================] - 0s 4ms/step - loss: 0.5789 - val_loss: 0.5395\n",
            "Epoch 11/500\n",
            "14/14 [==============================] - 0s 4ms/step - loss: 0.5871 - val_loss: 0.5217\n",
            "Epoch 12/500\n",
            "14/14 [==============================] - 0s 5ms/step - loss: 0.5291 - val_loss: 0.5024\n",
            "Epoch 13/500\n",
            "14/14 [==============================] - 0s 5ms/step - loss: 0.5665 - val_loss: 0.4848\n",
            "Epoch 14/500\n",
            "14/14 [==============================] - 0s 4ms/step - loss: 0.5375 - val_loss: 0.4668\n",
            "Epoch 15/500\n",
            "14/14 [==============================] - 0s 5ms/step - loss: 0.5263 - val_loss: 0.4505\n",
            "Epoch 16/500\n",
            "14/14 [==============================] - 0s 5ms/step - loss: 0.5069 - val_loss: 0.4306\n",
            "Epoch 17/500\n",
            "14/14 [==============================] - 0s 5ms/step - loss: 0.4613 - val_loss: 0.4133\n",
            "Epoch 18/500\n",
            "14/14 [==============================] - 0s 5ms/step - loss: 0.4677 - val_loss: 0.3974\n",
            "Epoch 19/500\n",
            "14/14 [==============================] - 0s 5ms/step - loss: 0.4392 - val_loss: 0.3815\n",
            "Epoch 20/500\n",
            "14/14 [==============================] - 0s 5ms/step - loss: 0.4377 - val_loss: 0.3651\n",
            "Epoch 21/500\n",
            "14/14 [==============================] - 0s 5ms/step - loss: 0.4100 - val_loss: 0.3512\n",
            "Epoch 22/500\n",
            "14/14 [==============================] - 0s 5ms/step - loss: 0.3856 - val_loss: 0.3382\n",
            "Epoch 23/500\n",
            "14/14 [==============================] - 0s 5ms/step - loss: 0.3885 - val_loss: 0.3248\n",
            "Epoch 24/500\n",
            "14/14 [==============================] - 0s 5ms/step - loss: 0.3526 - val_loss: 0.3152\n",
            "Epoch 25/500\n",
            "14/14 [==============================] - 0s 4ms/step - loss: 0.3869 - val_loss: 0.3014\n",
            "Epoch 26/500\n",
            "14/14 [==============================] - 0s 4ms/step - loss: 0.3507 - val_loss: 0.2908\n",
            "Epoch 27/500\n",
            "14/14 [==============================] - 0s 5ms/step - loss: 0.3735 - val_loss: 0.2846\n",
            "Epoch 28/500\n",
            "14/14 [==============================] - 0s 5ms/step - loss: 0.3538 - val_loss: 0.2760\n",
            "Epoch 29/500\n",
            "14/14 [==============================] - 0s 6ms/step - loss: 0.3182 - val_loss: 0.2631\n",
            "Epoch 30/500\n",
            "14/14 [==============================] - 0s 5ms/step - loss: 0.3451 - val_loss: 0.2558\n",
            "Epoch 31/500\n",
            "14/14 [==============================] - 0s 6ms/step - loss: 0.3512 - val_loss: 0.2522\n",
            "Epoch 32/500\n",
            "14/14 [==============================] - 0s 5ms/step - loss: 0.3338 - val_loss: 0.2447\n",
            "Epoch 33/500\n",
            "14/14 [==============================] - 0s 5ms/step - loss: 0.3115 - val_loss: 0.2360\n",
            "Epoch 34/500\n",
            "14/14 [==============================] - 0s 5ms/step - loss: 0.3161 - val_loss: 0.2299\n",
            "Epoch 35/500\n",
            "14/14 [==============================] - 0s 5ms/step - loss: 0.3231 - val_loss: 0.2248\n",
            "Epoch 36/500\n",
            "14/14 [==============================] - 0s 5ms/step - loss: 0.2615 - val_loss: 0.2201\n",
            "Epoch 37/500\n",
            "14/14 [==============================] - 0s 5ms/step - loss: 0.3248 - val_loss: 0.2145\n",
            "Epoch 38/500\n",
            "14/14 [==============================] - 0s 5ms/step - loss: 0.2872 - val_loss: 0.2140\n",
            "Epoch 39/500\n",
            "14/14 [==============================] - 0s 5ms/step - loss: 0.2913 - val_loss: 0.2059\n",
            "Epoch 40/500\n",
            "14/14 [==============================] - 0s 5ms/step - loss: 0.2951 - val_loss: 0.2044\n",
            "Epoch 41/500\n",
            "14/14 [==============================] - 0s 5ms/step - loss: 0.2861 - val_loss: 0.1990\n",
            "Epoch 42/500\n",
            "14/14 [==============================] - 0s 5ms/step - loss: 0.2670 - val_loss: 0.2009\n",
            "Epoch 43/500\n",
            "14/14 [==============================] - 0s 5ms/step - loss: 0.2355 - val_loss: 0.1918\n",
            "Epoch 44/500\n",
            "14/14 [==============================] - 0s 6ms/step - loss: 0.2532 - val_loss: 0.1838\n",
            "Epoch 45/500\n",
            "14/14 [==============================] - 0s 5ms/step - loss: 0.2208 - val_loss: 0.1822\n",
            "Epoch 46/500\n",
            "14/14 [==============================] - 0s 5ms/step - loss: 0.2463 - val_loss: 0.1821\n",
            "Epoch 47/500\n",
            "14/14 [==============================] - 0s 5ms/step - loss: 0.2505 - val_loss: 0.1751\n",
            "Epoch 48/500\n",
            "14/14 [==============================] - 0s 5ms/step - loss: 0.2488 - val_loss: 0.1712\n",
            "Epoch 49/500\n",
            "14/14 [==============================] - 0s 6ms/step - loss: 0.2302 - val_loss: 0.1664\n",
            "Epoch 50/500\n",
            "14/14 [==============================] - 0s 5ms/step - loss: 0.2231 - val_loss: 0.1657\n",
            "Epoch 51/500\n",
            "14/14 [==============================] - 0s 5ms/step - loss: 0.2535 - val_loss: 0.1674\n",
            "Epoch 52/500\n",
            "14/14 [==============================] - 0s 5ms/step - loss: 0.2302 - val_loss: 0.1673\n",
            "Epoch 53/500\n",
            "14/14 [==============================] - 0s 5ms/step - loss: 0.2270 - val_loss: 0.1625\n",
            "Epoch 54/500\n",
            "14/14 [==============================] - 0s 5ms/step - loss: 0.2230 - val_loss: 0.1601\n",
            "Epoch 55/500\n",
            "14/14 [==============================] - 0s 5ms/step - loss: 0.2299 - val_loss: 0.1542\n",
            "Epoch 56/500\n",
            "14/14 [==============================] - 0s 5ms/step - loss: 0.2156 - val_loss: 0.1501\n",
            "Epoch 57/500\n",
            "14/14 [==============================] - 0s 5ms/step - loss: 0.2456 - val_loss: 0.1526\n",
            "Epoch 58/500\n",
            "14/14 [==============================] - 0s 5ms/step - loss: 0.1780 - val_loss: 0.1492\n",
            "Epoch 59/500\n",
            "14/14 [==============================] - 0s 5ms/step - loss: 0.1871 - val_loss: 0.1458\n",
            "Epoch 60/500\n",
            "14/14 [==============================] - 0s 5ms/step - loss: 0.2206 - val_loss: 0.1433\n",
            "Epoch 61/500\n",
            "14/14 [==============================] - 0s 5ms/step - loss: 0.1874 - val_loss: 0.1461\n",
            "Epoch 62/500\n",
            "14/14 [==============================] - 0s 5ms/step - loss: 0.1964 - val_loss: 0.1497\n",
            "Epoch 63/500\n",
            "14/14 [==============================] - 0s 5ms/step - loss: 0.2123 - val_loss: 0.1381\n",
            "Epoch 64/500\n",
            "14/14 [==============================] - 0s 5ms/step - loss: 0.1918 - val_loss: 0.1385\n",
            "Epoch 65/500\n",
            "14/14 [==============================] - 0s 5ms/step - loss: 0.1804 - val_loss: 0.1375\n",
            "Epoch 66/500\n",
            "14/14 [==============================] - 0s 5ms/step - loss: 0.1985 - val_loss: 0.1440\n",
            "Epoch 67/500\n",
            "14/14 [==============================] - 0s 5ms/step - loss: 0.1892 - val_loss: 0.1306\n",
            "Epoch 68/500\n",
            "14/14 [==============================] - 0s 5ms/step - loss: 0.1926 - val_loss: 0.1284\n",
            "Epoch 69/500\n",
            "14/14 [==============================] - 0s 5ms/step - loss: 0.2111 - val_loss: 0.1353\n",
            "Epoch 70/500\n",
            "14/14 [==============================] - 0s 5ms/step - loss: 0.1790 - val_loss: 0.1373\n",
            "Epoch 71/500\n",
            "14/14 [==============================] - 0s 5ms/step - loss: 0.1764 - val_loss: 0.1292\n",
            "Epoch 72/500\n",
            "14/14 [==============================] - 0s 5ms/step - loss: 0.2052 - val_loss: 0.1296\n",
            "Epoch 73/500\n",
            "14/14 [==============================] - 0s 5ms/step - loss: 0.1866 - val_loss: 0.1376\n",
            "Epoch 74/500\n",
            "14/14 [==============================] - 0s 5ms/step - loss: 0.1811 - val_loss: 0.1242\n",
            "Epoch 75/500\n",
            "14/14 [==============================] - 0s 5ms/step - loss: 0.1468 - val_loss: 0.1253\n",
            "Epoch 76/500\n",
            "14/14 [==============================] - 0s 5ms/step - loss: 0.1664 - val_loss: 0.1292\n",
            "Epoch 77/500\n",
            "14/14 [==============================] - 0s 5ms/step - loss: 0.1708 - val_loss: 0.1241\n",
            "Epoch 78/500\n",
            "14/14 [==============================] - 0s 5ms/step - loss: 0.1857 - val_loss: 0.1250\n",
            "Epoch 79/500\n",
            "14/14 [==============================] - 0s 5ms/step - loss: 0.1457 - val_loss: 0.1198\n",
            "Epoch 80/500\n",
            "14/14 [==============================] - 0s 5ms/step - loss: 0.1923 - val_loss: 0.1192\n",
            "Epoch 81/500\n",
            "14/14 [==============================] - 0s 5ms/step - loss: 0.1735 - val_loss: 0.1184\n",
            "Epoch 82/500\n",
            "14/14 [==============================] - 0s 5ms/step - loss: 0.1721 - val_loss: 0.1244\n",
            "Epoch 83/500\n",
            "14/14 [==============================] - 0s 5ms/step - loss: 0.1677 - val_loss: 0.1214\n",
            "Epoch 84/500\n",
            "14/14 [==============================] - 0s 5ms/step - loss: 0.1693 - val_loss: 0.1212\n",
            "Epoch 85/500\n",
            "14/14 [==============================] - 0s 5ms/step - loss: 0.1554 - val_loss: 0.1178\n",
            "Epoch 86/500\n",
            "14/14 [==============================] - 0s 5ms/step - loss: 0.1621 - val_loss: 0.1255\n",
            "Epoch 87/500\n",
            "14/14 [==============================] - 0s 6ms/step - loss: 0.1727 - val_loss: 0.1151\n",
            "Epoch 88/500\n",
            "14/14 [==============================] - 0s 5ms/step - loss: 0.1449 - val_loss: 0.1137\n",
            "Epoch 89/500\n",
            "14/14 [==============================] - 0s 5ms/step - loss: 0.1208 - val_loss: 0.1185\n",
            "Epoch 90/500\n",
            "14/14 [==============================] - 0s 5ms/step - loss: 0.1785 - val_loss: 0.1178\n",
            "Epoch 91/500\n",
            "14/14 [==============================] - 0s 5ms/step - loss: 0.1614 - val_loss: 0.1125\n",
            "Epoch 92/500\n",
            "14/14 [==============================] - 0s 5ms/step - loss: 0.1663 - val_loss: 0.1177\n",
            "Epoch 93/500\n",
            "14/14 [==============================] - 0s 5ms/step - loss: 0.1748 - val_loss: 0.1151\n",
            "Epoch 94/500\n",
            "14/14 [==============================] - 0s 5ms/step - loss: 0.1657 - val_loss: 0.1103\n",
            "Epoch 95/500\n",
            "14/14 [==============================] - 0s 5ms/step - loss: 0.1547 - val_loss: 0.1098\n",
            "Epoch 96/500\n",
            "14/14 [==============================] - 0s 5ms/step - loss: 0.1302 - val_loss: 0.1148\n",
            "Epoch 97/500\n",
            "14/14 [==============================] - 0s 5ms/step - loss: 0.1172 - val_loss: 0.1112\n",
            "Epoch 98/500\n",
            "14/14 [==============================] - 0s 5ms/step - loss: 0.1140 - val_loss: 0.1102\n",
            "Epoch 99/500\n",
            "14/14 [==============================] - 0s 6ms/step - loss: 0.1435 - val_loss: 0.1071\n",
            "Epoch 100/500\n",
            "14/14 [==============================] - 0s 5ms/step - loss: 0.1119 - val_loss: 0.1090\n",
            "Epoch 101/500\n",
            "14/14 [==============================] - 0s 5ms/step - loss: 0.1575 - val_loss: 0.1055\n",
            "Epoch 102/500\n",
            "14/14 [==============================] - 0s 5ms/step - loss: 0.1624 - val_loss: 0.1044\n",
            "Epoch 103/500\n",
            "14/14 [==============================] - 0s 5ms/step - loss: 0.1276 - val_loss: 0.1154\n",
            "Epoch 104/500\n",
            "14/14 [==============================] - 0s 6ms/step - loss: 0.1383 - val_loss: 0.1032\n",
            "Epoch 105/500\n",
            "14/14 [==============================] - 0s 5ms/step - loss: 0.1317 - val_loss: 0.1009\n",
            "Epoch 106/500\n",
            "14/14 [==============================] - 0s 5ms/step - loss: 0.1183 - val_loss: 0.1108\n",
            "Epoch 107/500\n",
            "14/14 [==============================] - 0s 5ms/step - loss: 0.1515 - val_loss: 0.1097\n",
            "Epoch 108/500\n",
            "14/14 [==============================] - 0s 5ms/step - loss: 0.1260 - val_loss: 0.1030\n",
            "Epoch 109/500\n",
            "14/14 [==============================] - 0s 5ms/step - loss: 0.1685 - val_loss: 0.1004\n",
            "Epoch 110/500\n",
            "14/14 [==============================] - 0s 5ms/step - loss: 0.1524 - val_loss: 0.1090\n",
            "Epoch 111/500\n",
            "14/14 [==============================] - 0s 5ms/step - loss: 0.1095 - val_loss: 0.1118\n",
            "Epoch 112/500\n",
            "14/14 [==============================] - 0s 4ms/step - loss: 0.1543 - val_loss: 0.0986\n",
            "Epoch 113/500\n",
            "14/14 [==============================] - 0s 5ms/step - loss: 0.1275 - val_loss: 0.0967\n",
            "Epoch 114/500\n",
            "14/14 [==============================] - 0s 5ms/step - loss: 0.1327 - val_loss: 0.1068\n",
            "Epoch 115/500\n",
            "14/14 [==============================] - 0s 5ms/step - loss: 0.1198 - val_loss: 0.1025\n",
            "Epoch 116/500\n",
            "14/14 [==============================] - 0s 5ms/step - loss: 0.1563 - val_loss: 0.0993\n",
            "Epoch 117/500\n",
            "14/14 [==============================] - 0s 5ms/step - loss: 0.1975 - val_loss: 0.1070\n",
            "Epoch 118/500\n",
            "14/14 [==============================] - 0s 5ms/step - loss: 0.1495 - val_loss: 0.0956\n",
            "Epoch 119/500\n",
            "14/14 [==============================] - 0s 5ms/step - loss: 0.1344 - val_loss: 0.1000\n",
            "Epoch 120/500\n",
            "14/14 [==============================] - 0s 6ms/step - loss: 0.1592 - val_loss: 0.1097\n",
            "Epoch 121/500\n",
            "14/14 [==============================] - 0s 5ms/step - loss: 0.1573 - val_loss: 0.1021\n",
            "Epoch 122/500\n",
            "14/14 [==============================] - 0s 5ms/step - loss: 0.1210 - val_loss: 0.0978\n",
            "Epoch 123/500\n",
            "14/14 [==============================] - 0s 5ms/step - loss: 0.1376 - val_loss: 0.1018\n",
            "Epoch 124/500\n",
            "14/14 [==============================] - 0s 5ms/step - loss: 0.1417 - val_loss: 0.1087\n",
            "Epoch 125/500\n",
            "14/14 [==============================] - 0s 5ms/step - loss: 0.1183 - val_loss: 0.1190\n",
            "Epoch 126/500\n",
            "14/14 [==============================] - 0s 5ms/step - loss: 0.1619 - val_loss: 0.0976\n",
            "Epoch 127/500\n",
            "14/14 [==============================] - 0s 5ms/step - loss: 0.1091 - val_loss: 0.1000\n",
            "Epoch 128/500\n",
            "14/14 [==============================] - 0s 5ms/step - loss: 0.1147 - val_loss: 0.1014\n",
            "Epoch 129/500\n",
            "14/14 [==============================] - 0s 5ms/step - loss: 0.0943 - val_loss: 0.1003\n",
            "Epoch 130/500\n",
            "14/14 [==============================] - 0s 5ms/step - loss: 0.1070 - val_loss: 0.0968\n",
            "Epoch 131/500\n",
            "14/14 [==============================] - 0s 5ms/step - loss: 0.1187 - val_loss: 0.1027\n",
            "Epoch 132/500\n",
            "14/14 [==============================] - 0s 5ms/step - loss: 0.1081 - val_loss: 0.1004\n",
            "Epoch 133/500\n",
            "14/14 [==============================] - 0s 5ms/step - loss: 0.1156 - val_loss: 0.1009\n",
            "Epoch 134/500\n",
            "14/14 [==============================] - 0s 5ms/step - loss: 0.1296 - val_loss: 0.1032\n",
            "Epoch 135/500\n",
            "14/14 [==============================] - 0s 5ms/step - loss: 0.1023 - val_loss: 0.0949\n",
            "Epoch 136/500\n",
            "14/14 [==============================] - 0s 4ms/step - loss: 0.1220 - val_loss: 0.0960\n",
            "Epoch 137/500\n",
            "14/14 [==============================] - 0s 5ms/step - loss: 0.1329 - val_loss: 0.0962\n",
            "Epoch 138/500\n",
            "14/14 [==============================] - 0s 5ms/step - loss: 0.1180 - val_loss: 0.0963\n",
            "Epoch 139/500\n",
            "14/14 [==============================] - 0s 5ms/step - loss: 0.1167 - val_loss: 0.0951\n",
            "Epoch 140/500\n",
            "14/14 [==============================] - 0s 5ms/step - loss: 0.1070 - val_loss: 0.0931\n",
            "Epoch 141/500\n",
            "14/14 [==============================] - 0s 6ms/step - loss: 0.1006 - val_loss: 0.0973\n",
            "Epoch 142/500\n",
            "14/14 [==============================] - 0s 5ms/step - loss: 0.1442 - val_loss: 0.1020\n",
            "Epoch 143/500\n",
            "14/14 [==============================] - 0s 4ms/step - loss: 0.1493 - val_loss: 0.1056\n",
            "Epoch 144/500\n",
            "14/14 [==============================] - 0s 5ms/step - loss: 0.1246 - val_loss: 0.0895\n",
            "Epoch 145/500\n",
            "14/14 [==============================] - 0s 4ms/step - loss: 0.0985 - val_loss: 0.0872\n",
            "Epoch 146/500\n",
            "14/14 [==============================] - 0s 5ms/step - loss: 0.1200 - val_loss: 0.0968\n",
            "Epoch 147/500\n",
            "14/14 [==============================] - 0s 5ms/step - loss: 0.0995 - val_loss: 0.1021\n",
            "Epoch 148/500\n",
            "14/14 [==============================] - 0s 5ms/step - loss: 0.1110 - val_loss: 0.0989\n",
            "Epoch 149/500\n",
            "14/14 [==============================] - 0s 5ms/step - loss: 0.1292 - val_loss: 0.1006\n",
            "Epoch 150/500\n",
            "14/14 [==============================] - 0s 5ms/step - loss: 0.1092 - val_loss: 0.0870\n",
            "Epoch 151/500\n",
            "14/14 [==============================] - 0s 5ms/step - loss: 0.1274 - val_loss: 0.1087\n",
            "Epoch 152/500\n",
            "14/14 [==============================] - 0s 5ms/step - loss: 0.1029 - val_loss: 0.1121\n",
            "Epoch 153/500\n",
            "14/14 [==============================] - 0s 5ms/step - loss: 0.1349 - val_loss: 0.0964\n",
            "Epoch 154/500\n",
            "14/14 [==============================] - 0s 5ms/step - loss: 0.0985 - val_loss: 0.0918\n",
            "Epoch 155/500\n",
            "14/14 [==============================] - 0s 5ms/step - loss: 0.1571 - val_loss: 0.0991\n",
            "Epoch 156/500\n",
            "14/14 [==============================] - 0s 5ms/step - loss: 0.0840 - val_loss: 0.0920\n",
            "Epoch 157/500\n",
            "14/14 [==============================] - 0s 5ms/step - loss: 0.0835 - val_loss: 0.0891\n",
            "Epoch 158/500\n",
            "14/14 [==============================] - 0s 5ms/step - loss: 0.1379 - val_loss: 0.0993\n",
            "Epoch 159/500\n",
            "14/14 [==============================] - 0s 5ms/step - loss: 0.0699 - val_loss: 0.1067\n",
            "Epoch 160/500\n",
            "14/14 [==============================] - 0s 5ms/step - loss: 0.1121 - val_loss: 0.1137\n",
            "Epoch 161/500\n",
            "14/14 [==============================] - 0s 5ms/step - loss: 0.0977 - val_loss: 0.0942\n",
            "Epoch 162/500\n",
            "14/14 [==============================] - 0s 5ms/step - loss: 0.0957 - val_loss: 0.0982\n",
            "Epoch 163/500\n",
            "14/14 [==============================] - 0s 6ms/step - loss: 0.1264 - val_loss: 0.0966\n",
            "Epoch 164/500\n",
            "14/14 [==============================] - 0s 5ms/step - loss: 0.0967 - val_loss: 0.0927\n",
            "Epoch 165/500\n",
            "14/14 [==============================] - 0s 5ms/step - loss: 0.1477 - val_loss: 0.0977\n",
            "Epoch 166/500\n",
            "14/14 [==============================] - 0s 5ms/step - loss: 0.0955 - val_loss: 0.0924\n",
            "Epoch 167/500\n",
            "14/14 [==============================] - 0s 5ms/step - loss: 0.1202 - val_loss: 0.0905\n",
            "Epoch 168/500\n",
            "14/14 [==============================] - 0s 5ms/step - loss: 0.1172 - val_loss: 0.0905\n",
            "Epoch 169/500\n",
            "14/14 [==============================] - 0s 5ms/step - loss: 0.1316 - val_loss: 0.0957\n",
            "Epoch 170/500\n",
            "14/14 [==============================] - 0s 5ms/step - loss: 0.1166 - val_loss: 0.0950\n",
            "Epoch 171/500\n",
            "14/14 [==============================] - 0s 5ms/step - loss: 0.1001 - val_loss: 0.0956\n",
            "Epoch 172/500\n",
            "14/14 [==============================] - 0s 5ms/step - loss: 0.1072 - val_loss: 0.0950\n",
            "Epoch 173/500\n",
            "14/14 [==============================] - 0s 4ms/step - loss: 0.0899 - val_loss: 0.0986\n",
            "Epoch 174/500\n",
            "14/14 [==============================] - 0s 5ms/step - loss: 0.1174 - val_loss: 0.1035\n",
            "Epoch 175/500\n",
            "14/14 [==============================] - 0s 5ms/step - loss: 0.0994 - val_loss: 0.0855\n",
            "Epoch 176/500\n",
            "14/14 [==============================] - 0s 5ms/step - loss: 0.1294 - val_loss: 0.0920\n",
            "Epoch 177/500\n",
            "14/14 [==============================] - 0s 5ms/step - loss: 0.0900 - val_loss: 0.0877\n",
            "Epoch 178/500\n",
            "14/14 [==============================] - 0s 5ms/step - loss: 0.1145 - val_loss: 0.0927\n",
            "Epoch 179/500\n",
            "14/14 [==============================] - 0s 5ms/step - loss: 0.0734 - val_loss: 0.0873\n",
            "Epoch 180/500\n",
            "14/14 [==============================] - 0s 4ms/step - loss: 0.1155 - val_loss: 0.0916\n",
            "Epoch 181/500\n",
            "14/14 [==============================] - 0s 5ms/step - loss: 0.0932 - val_loss: 0.0991\n",
            "Epoch 182/500\n",
            "14/14 [==============================] - 0s 5ms/step - loss: 0.1153 - val_loss: 0.1015\n",
            "Epoch 183/500\n",
            "14/14 [==============================] - 0s 6ms/step - loss: 0.0923 - val_loss: 0.0879\n",
            "Epoch 184/500\n",
            "14/14 [==============================] - 0s 5ms/step - loss: 0.1211 - val_loss: 0.0938\n",
            "Epoch 185/500\n",
            "14/14 [==============================] - 0s 5ms/step - loss: 0.1084 - val_loss: 0.0967\n",
            "Epoch 186/500\n",
            "14/14 [==============================] - 0s 4ms/step - loss: 0.1117 - val_loss: 0.1095\n",
            "Epoch 187/500\n",
            "14/14 [==============================] - 0s 6ms/step - loss: 0.0896 - val_loss: 0.1006\n",
            "Epoch 188/500\n",
            "14/14 [==============================] - 0s 5ms/step - loss: 0.1280 - val_loss: 0.0886\n",
            "Epoch 189/500\n",
            "14/14 [==============================] - 0s 5ms/step - loss: 0.1169 - val_loss: 0.0923\n",
            "Epoch 190/500\n",
            "14/14 [==============================] - 0s 5ms/step - loss: 0.1059 - val_loss: 0.0924\n",
            "Epoch 191/500\n",
            "14/14 [==============================] - 0s 4ms/step - loss: 0.0980 - val_loss: 0.0933\n",
            "Epoch 192/500\n",
            "14/14 [==============================] - 0s 5ms/step - loss: 0.1403 - val_loss: 0.0925\n",
            "Epoch 193/500\n",
            "14/14 [==============================] - 0s 5ms/step - loss: 0.0814 - val_loss: 0.0970\n",
            "Epoch 194/500\n",
            "14/14 [==============================] - 0s 5ms/step - loss: 0.1109 - val_loss: 0.0824\n",
            "Epoch 195/500\n",
            "14/14 [==============================] - 0s 5ms/step - loss: 0.0818 - val_loss: 0.0859\n",
            "Epoch 196/500\n",
            "14/14 [==============================] - 0s 5ms/step - loss: 0.1068 - val_loss: 0.1142\n",
            "Epoch 197/500\n",
            "14/14 [==============================] - 0s 5ms/step - loss: 0.0874 - val_loss: 0.0985\n",
            "Epoch 198/500\n",
            "14/14 [==============================] - 0s 5ms/step - loss: 0.0977 - val_loss: 0.0884\n",
            "Epoch 199/500\n",
            "14/14 [==============================] - 0s 5ms/step - loss: 0.0659 - val_loss: 0.0849\n",
            "Epoch 200/500\n",
            "14/14 [==============================] - 0s 5ms/step - loss: 0.0968 - val_loss: 0.0976\n",
            "Epoch 201/500\n",
            "14/14 [==============================] - 0s 5ms/step - loss: 0.1108 - val_loss: 0.0846\n",
            "Epoch 202/500\n",
            "14/14 [==============================] - 0s 6ms/step - loss: 0.1081 - val_loss: 0.0956\n",
            "Epoch 203/500\n",
            "14/14 [==============================] - 0s 6ms/step - loss: 0.0798 - val_loss: 0.0858\n",
            "Epoch 204/500\n",
            "14/14 [==============================] - 0s 5ms/step - loss: 0.0990 - val_loss: 0.1127\n",
            "Epoch 205/500\n",
            "14/14 [==============================] - 0s 5ms/step - loss: 0.0997 - val_loss: 0.1093\n",
            "Epoch 206/500\n",
            "14/14 [==============================] - 0s 5ms/step - loss: 0.1303 - val_loss: 0.0879\n",
            "Epoch 207/500\n",
            "14/14 [==============================] - 0s 5ms/step - loss: 0.0910 - val_loss: 0.0853\n",
            "Epoch 208/500\n",
            "14/14 [==============================] - 0s 5ms/step - loss: 0.0996 - val_loss: 0.1087\n",
            "Epoch 209/500\n",
            "14/14 [==============================] - 0s 5ms/step - loss: 0.0905 - val_loss: 0.1036\n",
            "Epoch 210/500\n",
            "14/14 [==============================] - 0s 5ms/step - loss: 0.0985 - val_loss: 0.0857\n",
            "Epoch 211/500\n",
            "14/14 [==============================] - 0s 5ms/step - loss: 0.0720 - val_loss: 0.0846\n",
            "Epoch 212/500\n",
            "14/14 [==============================] - 0s 5ms/step - loss: 0.0919 - val_loss: 0.0931\n",
            "Epoch 213/500\n",
            "14/14 [==============================] - 0s 5ms/step - loss: 0.1168 - val_loss: 0.0945\n",
            "Epoch 214/500\n",
            "14/14 [==============================] - 0s 5ms/step - loss: 0.0966 - val_loss: 0.0934\n",
            "Epoch 215/500\n",
            "14/14 [==============================] - 0s 5ms/step - loss: 0.0890 - val_loss: 0.0937\n",
            "Epoch 216/500\n",
            "14/14 [==============================] - 0s 5ms/step - loss: 0.0803 - val_loss: 0.0901\n",
            "Epoch 217/500\n",
            "14/14 [==============================] - 0s 6ms/step - loss: 0.0989 - val_loss: 0.0863\n",
            "Epoch 218/500\n",
            "14/14 [==============================] - 0s 6ms/step - loss: 0.0845 - val_loss: 0.0893\n",
            "Epoch 219/500\n",
            "14/14 [==============================] - 0s 6ms/step - loss: 0.0857 - val_loss: 0.0993\n",
            "Epoch 00219: early stopping\n"
          ],
          "name": "stdout"
        },
        {
          "output_type": "execute_result",
          "data": {
            "text/plain": [
              "<tensorflow.python.keras.callbacks.History at 0x7f625f1525d0>"
            ]
          },
          "metadata": {
            "tags": []
          },
          "execution_count": 53
        }
      ]
    },
    {
      "cell_type": "code",
      "metadata": {
        "colab": {
          "base_uri": "https://localhost:8080/",
          "height": 282
        },
        "id": "J2bKOuJKvhpr",
        "outputId": "b49fb16c-17b5-41a3-a0ae-d9dfb609b8c9"
      },
      "source": [
        "losses_drop = pd.DataFrame(model.history.history)\n",
        "losses_drop.plot()"
      ],
      "execution_count": null,
      "outputs": [
        {
          "output_type": "execute_result",
          "data": {
            "text/plain": [
              "<matplotlib.axes._subplots.AxesSubplot at 0x7f625efe3ed0>"
            ]
          },
          "metadata": {
            "tags": []
          },
          "execution_count": 54
        },
        {
          "output_type": "display_data",
          "data": {
            "image/png": "[encoded data removed]",
            "text/plain": [
              "<Figure size 432x288 with 1 Axes>"
            ]
          },
          "metadata": {
            "tags": [],
            "needs_background": "light"
          }
        }
      ]
    },
    {
      "cell_type": "code",
      "metadata": {
        "colab": {
          "base_uri": "https://localhost:8080/"
        },
        "id": "LKK8DdEovrzG",
        "outputId": "600d3c1c-a571-41e6-e5ef-eb580fc17cd4"
      },
      "source": [
        "predictions = model.predict_classes(X_test)"
      ],
      "execution_count": null,
      "outputs": [
        {
          "output_type": "stream",
          "text": [
            "/usr/local/lib/python3.7/dist-packages/tensorflow/python/keras/engine/sequential.py:450: UserWarning: `model.predict_classes()` is deprecated and will be removed after 2021-01-01. Please use instead:* `np.argmax(model.predict(x), axis=-1)`,   if your model does multi-class classification   (e.g. if it uses a `softmax` last-layer activation).* `(model.predict(x) > 0.5).astype(\"int32\")`,   if your model does binary classification   (e.g. if it uses a `sigmoid` last-layer activation).\n",
            "  warnings.warn('`model.predict_classes()` is deprecated and '\n"
          ],
          "name": "stderr"
        }
      ]
    },
    {
      "cell_type": "markdown",
      "metadata": {
        "id": "KIBlohYYxUiU"
      },
      "source": [
        "### Results"
      ]
    },
    {
      "cell_type": "code",
      "metadata": {
        "id": "xwP0iB8iv_mR"
      },
      "source": [
        "from sklearn.metrics import classification_report, confusion_matrix"
      ],
      "execution_count": null,
      "outputs": []
    },
    {
      "cell_type": "code",
      "metadata": {
        "colab": {
          "base_uri": "https://localhost:8080/"
        },
        "id": "Ui7QDnJYwKb3",
        "outputId": "21d94eae-198d-4522-ac48-95b78dad3417"
      },
      "source": [
        "print(classification_report(y_test,predictions))"
      ],
      "execution_count": null,
      "outputs": [
        {
          "output_type": "stream",
          "text": [
            "              precision    recall  f1-score   support\n",
            "\n",
            "           0       0.99      0.95      0.97        88\n",
            "           1       0.93      0.98      0.96        55\n",
            "\n",
            "    accuracy                           0.97       143\n",
            "   macro avg       0.96      0.97      0.96       143\n",
            "weighted avg       0.97      0.97      0.97       143\n",
            "\n"
          ],
          "name": "stdout"
        }
      ]
    },
    {
      "cell_type": "code",
      "metadata": {
        "colab": {
          "base_uri": "https://localhost:8080/"
        },
        "id": "ZA8oYoGQwOA4",
        "outputId": "cdcb2eb0-faea-490a-8d51-ce36007b2437"
      },
      "source": [
        "print(confusion_matrix(y_test,predictions))"
      ],
      "execution_count": null,
      "outputs": [
        {
          "output_type": "stream",
          "text": [
            "[[84  4]\n",
            " [ 1 54]]\n"
          ],
          "name": "stdout"
        }
      ]
    },
    {
      "cell_type": "code",
      "metadata": {
        "id": "7Q88k-H4wVmq"
      },
      "source": [
        ""
      ],
      "execution_count": null,
      "outputs": []
    }
  ]
}